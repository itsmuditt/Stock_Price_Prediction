{
  "nbformat": 4,
  "nbformat_minor": 0,
  "metadata": {
    "colab": {
      "provenance": [],
      "gpuType": "T4",
      "toc_visible": true,
      "include_colab_link": true
    },
    "kernelspec": {
      "name": "python3",
      "display_name": "Python 3"
    },
    "language_info": {
      "name": "python"
    },
    "accelerator": "GPU",
    "widgets": {
      "application/vnd.jupyter.widget-state+json": {
        "b21fa59a527e488f81d1a54694069a89": {
          "model_module": "@jupyter-widgets/controls",
          "model_name": "HBoxModel",
          "model_module_version": "1.5.0",
          "state": {
            "_dom_classes": [],
            "_model_module": "@jupyter-widgets/controls",
            "_model_module_version": "1.5.0",
            "_model_name": "HBoxModel",
            "_view_count": null,
            "_view_module": "@jupyter-widgets/controls",
            "_view_module_version": "1.5.0",
            "_view_name": "HBoxView",
            "box_style": "",
            "children": [
              "IPY_MODEL_ddd532acc2d843a4a0926bf738692954",
              "IPY_MODEL_b0895f70f4af45dcb52b810fb4e8eb79",
              "IPY_MODEL_ac43e482dfe343f893d008852308447a"
            ],
            "layout": "IPY_MODEL_96df99bdbdc2473db73a8179b05d92b1"
          }
        },
        "ddd532acc2d843a4a0926bf738692954": {
          "model_module": "@jupyter-widgets/controls",
          "model_name": "HTMLModel",
          "model_module_version": "1.5.0",
          "state": {
            "_dom_classes": [],
            "_model_module": "@jupyter-widgets/controls",
            "_model_module_version": "1.5.0",
            "_model_name": "HTMLModel",
            "_view_count": null,
            "_view_module": "@jupyter-widgets/controls",
            "_view_module_version": "1.5.0",
            "_view_name": "HTMLView",
            "description": "",
            "description_tooltip": null,
            "layout": "IPY_MODEL_19167a62bea6411582eb508d111b4d51",
            "placeholder": "​",
            "style": "IPY_MODEL_5a26f7f26bfb4c12912ad05b0c5bf378",
            "value": "Downloading (…)solve/main/vocab.txt: 100%"
          }
        },
        "b0895f70f4af45dcb52b810fb4e8eb79": {
          "model_module": "@jupyter-widgets/controls",
          "model_name": "FloatProgressModel",
          "model_module_version": "1.5.0",
          "state": {
            "_dom_classes": [],
            "_model_module": "@jupyter-widgets/controls",
            "_model_module_version": "1.5.0",
            "_model_name": "FloatProgressModel",
            "_view_count": null,
            "_view_module": "@jupyter-widgets/controls",
            "_view_module_version": "1.5.0",
            "_view_name": "ProgressView",
            "bar_style": "success",
            "description": "",
            "description_tooltip": null,
            "layout": "IPY_MODEL_70cd9327b3d443bcb3605982da3621ed",
            "max": 231508,
            "min": 0,
            "orientation": "horizontal",
            "style": "IPY_MODEL_5a87ca5734de49c498baa82eee1012c3",
            "value": 231508
          }
        },
        "ac43e482dfe343f893d008852308447a": {
          "model_module": "@jupyter-widgets/controls",
          "model_name": "HTMLModel",
          "model_module_version": "1.5.0",
          "state": {
            "_dom_classes": [],
            "_model_module": "@jupyter-widgets/controls",
            "_model_module_version": "1.5.0",
            "_model_name": "HTMLModel",
            "_view_count": null,
            "_view_module": "@jupyter-widgets/controls",
            "_view_module_version": "1.5.0",
            "_view_name": "HTMLView",
            "description": "",
            "description_tooltip": null,
            "layout": "IPY_MODEL_953565e2dff44cc49d02a9a0d20c6fb9",
            "placeholder": "​",
            "style": "IPY_MODEL_7b7a0d22637a458d9c5c38e955fa7455",
            "value": " 232k/232k [00:00&lt;00:00, 4.19MB/s]"
          }
        },
        "96df99bdbdc2473db73a8179b05d92b1": {
          "model_module": "@jupyter-widgets/base",
          "model_name": "LayoutModel",
          "model_module_version": "1.2.0",
          "state": {
            "_model_module": "@jupyter-widgets/base",
            "_model_module_version": "1.2.0",
            "_model_name": "LayoutModel",
            "_view_count": null,
            "_view_module": "@jupyter-widgets/base",
            "_view_module_version": "1.2.0",
            "_view_name": "LayoutView",
            "align_content": null,
            "align_items": null,
            "align_self": null,
            "border": null,
            "bottom": null,
            "display": null,
            "flex": null,
            "flex_flow": null,
            "grid_area": null,
            "grid_auto_columns": null,
            "grid_auto_flow": null,
            "grid_auto_rows": null,
            "grid_column": null,
            "grid_gap": null,
            "grid_row": null,
            "grid_template_areas": null,
            "grid_template_columns": null,
            "grid_template_rows": null,
            "height": null,
            "justify_content": null,
            "justify_items": null,
            "left": null,
            "margin": null,
            "max_height": null,
            "max_width": null,
            "min_height": null,
            "min_width": null,
            "object_fit": null,
            "object_position": null,
            "order": null,
            "overflow": null,
            "overflow_x": null,
            "overflow_y": null,
            "padding": null,
            "right": null,
            "top": null,
            "visibility": null,
            "width": null
          }
        },
        "19167a62bea6411582eb508d111b4d51": {
          "model_module": "@jupyter-widgets/base",
          "model_name": "LayoutModel",
          "model_module_version": "1.2.0",
          "state": {
            "_model_module": "@jupyter-widgets/base",
            "_model_module_version": "1.2.0",
            "_model_name": "LayoutModel",
            "_view_count": null,
            "_view_module": "@jupyter-widgets/base",
            "_view_module_version": "1.2.0",
            "_view_name": "LayoutView",
            "align_content": null,
            "align_items": null,
            "align_self": null,
            "border": null,
            "bottom": null,
            "display": null,
            "flex": null,
            "flex_flow": null,
            "grid_area": null,
            "grid_auto_columns": null,
            "grid_auto_flow": null,
            "grid_auto_rows": null,
            "grid_column": null,
            "grid_gap": null,
            "grid_row": null,
            "grid_template_areas": null,
            "grid_template_columns": null,
            "grid_template_rows": null,
            "height": null,
            "justify_content": null,
            "justify_items": null,
            "left": null,
            "margin": null,
            "max_height": null,
            "max_width": null,
            "min_height": null,
            "min_width": null,
            "object_fit": null,
            "object_position": null,
            "order": null,
            "overflow": null,
            "overflow_x": null,
            "overflow_y": null,
            "padding": null,
            "right": null,
            "top": null,
            "visibility": null,
            "width": null
          }
        },
        "5a26f7f26bfb4c12912ad05b0c5bf378": {
          "model_module": "@jupyter-widgets/controls",
          "model_name": "DescriptionStyleModel",
          "model_module_version": "1.5.0",
          "state": {
            "_model_module": "@jupyter-widgets/controls",
            "_model_module_version": "1.5.0",
            "_model_name": "DescriptionStyleModel",
            "_view_count": null,
            "_view_module": "@jupyter-widgets/base",
            "_view_module_version": "1.2.0",
            "_view_name": "StyleView",
            "description_width": ""
          }
        },
        "70cd9327b3d443bcb3605982da3621ed": {
          "model_module": "@jupyter-widgets/base",
          "model_name": "LayoutModel",
          "model_module_version": "1.2.0",
          "state": {
            "_model_module": "@jupyter-widgets/base",
            "_model_module_version": "1.2.0",
            "_model_name": "LayoutModel",
            "_view_count": null,
            "_view_module": "@jupyter-widgets/base",
            "_view_module_version": "1.2.0",
            "_view_name": "LayoutView",
            "align_content": null,
            "align_items": null,
            "align_self": null,
            "border": null,
            "bottom": null,
            "display": null,
            "flex": null,
            "flex_flow": null,
            "grid_area": null,
            "grid_auto_columns": null,
            "grid_auto_flow": null,
            "grid_auto_rows": null,
            "grid_column": null,
            "grid_gap": null,
            "grid_row": null,
            "grid_template_areas": null,
            "grid_template_columns": null,
            "grid_template_rows": null,
            "height": null,
            "justify_content": null,
            "justify_items": null,
            "left": null,
            "margin": null,
            "max_height": null,
            "max_width": null,
            "min_height": null,
            "min_width": null,
            "object_fit": null,
            "object_position": null,
            "order": null,
            "overflow": null,
            "overflow_x": null,
            "overflow_y": null,
            "padding": null,
            "right": null,
            "top": null,
            "visibility": null,
            "width": null
          }
        },
        "5a87ca5734de49c498baa82eee1012c3": {
          "model_module": "@jupyter-widgets/controls",
          "model_name": "ProgressStyleModel",
          "model_module_version": "1.5.0",
          "state": {
            "_model_module": "@jupyter-widgets/controls",
            "_model_module_version": "1.5.0",
            "_model_name": "ProgressStyleModel",
            "_view_count": null,
            "_view_module": "@jupyter-widgets/base",
            "_view_module_version": "1.2.0",
            "_view_name": "StyleView",
            "bar_color": null,
            "description_width": ""
          }
        },
        "953565e2dff44cc49d02a9a0d20c6fb9": {
          "model_module": "@jupyter-widgets/base",
          "model_name": "LayoutModel",
          "model_module_version": "1.2.0",
          "state": {
            "_model_module": "@jupyter-widgets/base",
            "_model_module_version": "1.2.0",
            "_model_name": "LayoutModel",
            "_view_count": null,
            "_view_module": "@jupyter-widgets/base",
            "_view_module_version": "1.2.0",
            "_view_name": "LayoutView",
            "align_content": null,
            "align_items": null,
            "align_self": null,
            "border": null,
            "bottom": null,
            "display": null,
            "flex": null,
            "flex_flow": null,
            "grid_area": null,
            "grid_auto_columns": null,
            "grid_auto_flow": null,
            "grid_auto_rows": null,
            "grid_column": null,
            "grid_gap": null,
            "grid_row": null,
            "grid_template_areas": null,
            "grid_template_columns": null,
            "grid_template_rows": null,
            "height": null,
            "justify_content": null,
            "justify_items": null,
            "left": null,
            "margin": null,
            "max_height": null,
            "max_width": null,
            "min_height": null,
            "min_width": null,
            "object_fit": null,
            "object_position": null,
            "order": null,
            "overflow": null,
            "overflow_x": null,
            "overflow_y": null,
            "padding": null,
            "right": null,
            "top": null,
            "visibility": null,
            "width": null
          }
        },
        "7b7a0d22637a458d9c5c38e955fa7455": {
          "model_module": "@jupyter-widgets/controls",
          "model_name": "DescriptionStyleModel",
          "model_module_version": "1.5.0",
          "state": {
            "_model_module": "@jupyter-widgets/controls",
            "_model_module_version": "1.5.0",
            "_model_name": "DescriptionStyleModel",
            "_view_count": null,
            "_view_module": "@jupyter-widgets/base",
            "_view_module_version": "1.2.0",
            "_view_name": "StyleView",
            "description_width": ""
          }
        },
        "ee66c85fee624c809dd42ee60599b23f": {
          "model_module": "@jupyter-widgets/controls",
          "model_name": "HBoxModel",
          "model_module_version": "1.5.0",
          "state": {
            "_dom_classes": [],
            "_model_module": "@jupyter-widgets/controls",
            "_model_module_version": "1.5.0",
            "_model_name": "HBoxModel",
            "_view_count": null,
            "_view_module": "@jupyter-widgets/controls",
            "_view_module_version": "1.5.0",
            "_view_name": "HBoxView",
            "box_style": "",
            "children": [
              "IPY_MODEL_ecba3f7ad7b4488ea7d0d64b1c35a21f",
              "IPY_MODEL_44d3021fc8264c698d3fe2483f150878",
              "IPY_MODEL_1deb63bab7474ef791ba474bfa3521d3"
            ],
            "layout": "IPY_MODEL_62fed9c0e2ec45b6b090b982c5ca7fe5"
          }
        },
        "ecba3f7ad7b4488ea7d0d64b1c35a21f": {
          "model_module": "@jupyter-widgets/controls",
          "model_name": "HTMLModel",
          "model_module_version": "1.5.0",
          "state": {
            "_dom_classes": [],
            "_model_module": "@jupyter-widgets/controls",
            "_model_module_version": "1.5.0",
            "_model_name": "HTMLModel",
            "_view_count": null,
            "_view_module": "@jupyter-widgets/controls",
            "_view_module_version": "1.5.0",
            "_view_name": "HTMLView",
            "description": "",
            "description_tooltip": null,
            "layout": "IPY_MODEL_58b651b290f0405d879a1d020d7aebf2",
            "placeholder": "​",
            "style": "IPY_MODEL_9cbb1df810984e3e8ff578024b4b4e3b",
            "value": "Downloading (…)okenizer_config.json: 100%"
          }
        },
        "44d3021fc8264c698d3fe2483f150878": {
          "model_module": "@jupyter-widgets/controls",
          "model_name": "FloatProgressModel",
          "model_module_version": "1.5.0",
          "state": {
            "_dom_classes": [],
            "_model_module": "@jupyter-widgets/controls",
            "_model_module_version": "1.5.0",
            "_model_name": "FloatProgressModel",
            "_view_count": null,
            "_view_module": "@jupyter-widgets/controls",
            "_view_module_version": "1.5.0",
            "_view_name": "ProgressView",
            "bar_style": "success",
            "description": "",
            "description_tooltip": null,
            "layout": "IPY_MODEL_b76e88ca8a864fbf9e6e3bd53d4c5582",
            "max": 28,
            "min": 0,
            "orientation": "horizontal",
            "style": "IPY_MODEL_e93478d33283471b8f09f957a4f45d0f",
            "value": 28
          }
        },
        "1deb63bab7474ef791ba474bfa3521d3": {
          "model_module": "@jupyter-widgets/controls",
          "model_name": "HTMLModel",
          "model_module_version": "1.5.0",
          "state": {
            "_dom_classes": [],
            "_model_module": "@jupyter-widgets/controls",
            "_model_module_version": "1.5.0",
            "_model_name": "HTMLModel",
            "_view_count": null,
            "_view_module": "@jupyter-widgets/controls",
            "_view_module_version": "1.5.0",
            "_view_name": "HTMLView",
            "description": "",
            "description_tooltip": null,
            "layout": "IPY_MODEL_6a42beb6567e460db14726a023fa3da2",
            "placeholder": "​",
            "style": "IPY_MODEL_fad807ed2c7148c7a80fdb4f975a996b",
            "value": " 28.0/28.0 [00:00&lt;00:00, 1.94kB/s]"
          }
        },
        "62fed9c0e2ec45b6b090b982c5ca7fe5": {
          "model_module": "@jupyter-widgets/base",
          "model_name": "LayoutModel",
          "model_module_version": "1.2.0",
          "state": {
            "_model_module": "@jupyter-widgets/base",
            "_model_module_version": "1.2.0",
            "_model_name": "LayoutModel",
            "_view_count": null,
            "_view_module": "@jupyter-widgets/base",
            "_view_module_version": "1.2.0",
            "_view_name": "LayoutView",
            "align_content": null,
            "align_items": null,
            "align_self": null,
            "border": null,
            "bottom": null,
            "display": null,
            "flex": null,
            "flex_flow": null,
            "grid_area": null,
            "grid_auto_columns": null,
            "grid_auto_flow": null,
            "grid_auto_rows": null,
            "grid_column": null,
            "grid_gap": null,
            "grid_row": null,
            "grid_template_areas": null,
            "grid_template_columns": null,
            "grid_template_rows": null,
            "height": null,
            "justify_content": null,
            "justify_items": null,
            "left": null,
            "margin": null,
            "max_height": null,
            "max_width": null,
            "min_height": null,
            "min_width": null,
            "object_fit": null,
            "object_position": null,
            "order": null,
            "overflow": null,
            "overflow_x": null,
            "overflow_y": null,
            "padding": null,
            "right": null,
            "top": null,
            "visibility": null,
            "width": null
          }
        },
        "58b651b290f0405d879a1d020d7aebf2": {
          "model_module": "@jupyter-widgets/base",
          "model_name": "LayoutModel",
          "model_module_version": "1.2.0",
          "state": {
            "_model_module": "@jupyter-widgets/base",
            "_model_module_version": "1.2.0",
            "_model_name": "LayoutModel",
            "_view_count": null,
            "_view_module": "@jupyter-widgets/base",
            "_view_module_version": "1.2.0",
            "_view_name": "LayoutView",
            "align_content": null,
            "align_items": null,
            "align_self": null,
            "border": null,
            "bottom": null,
            "display": null,
            "flex": null,
            "flex_flow": null,
            "grid_area": null,
            "grid_auto_columns": null,
            "grid_auto_flow": null,
            "grid_auto_rows": null,
            "grid_column": null,
            "grid_gap": null,
            "grid_row": null,
            "grid_template_areas": null,
            "grid_template_columns": null,
            "grid_template_rows": null,
            "height": null,
            "justify_content": null,
            "justify_items": null,
            "left": null,
            "margin": null,
            "max_height": null,
            "max_width": null,
            "min_height": null,
            "min_width": null,
            "object_fit": null,
            "object_position": null,
            "order": null,
            "overflow": null,
            "overflow_x": null,
            "overflow_y": null,
            "padding": null,
            "right": null,
            "top": null,
            "visibility": null,
            "width": null
          }
        },
        "9cbb1df810984e3e8ff578024b4b4e3b": {
          "model_module": "@jupyter-widgets/controls",
          "model_name": "DescriptionStyleModel",
          "model_module_version": "1.5.0",
          "state": {
            "_model_module": "@jupyter-widgets/controls",
            "_model_module_version": "1.5.0",
            "_model_name": "DescriptionStyleModel",
            "_view_count": null,
            "_view_module": "@jupyter-widgets/base",
            "_view_module_version": "1.2.0",
            "_view_name": "StyleView",
            "description_width": ""
          }
        },
        "b76e88ca8a864fbf9e6e3bd53d4c5582": {
          "model_module": "@jupyter-widgets/base",
          "model_name": "LayoutModel",
          "model_module_version": "1.2.0",
          "state": {
            "_model_module": "@jupyter-widgets/base",
            "_model_module_version": "1.2.0",
            "_model_name": "LayoutModel",
            "_view_count": null,
            "_view_module": "@jupyter-widgets/base",
            "_view_module_version": "1.2.0",
            "_view_name": "LayoutView",
            "align_content": null,
            "align_items": null,
            "align_self": null,
            "border": null,
            "bottom": null,
            "display": null,
            "flex": null,
            "flex_flow": null,
            "grid_area": null,
            "grid_auto_columns": null,
            "grid_auto_flow": null,
            "grid_auto_rows": null,
            "grid_column": null,
            "grid_gap": null,
            "grid_row": null,
            "grid_template_areas": null,
            "grid_template_columns": null,
            "grid_template_rows": null,
            "height": null,
            "justify_content": null,
            "justify_items": null,
            "left": null,
            "margin": null,
            "max_height": null,
            "max_width": null,
            "min_height": null,
            "min_width": null,
            "object_fit": null,
            "object_position": null,
            "order": null,
            "overflow": null,
            "overflow_x": null,
            "overflow_y": null,
            "padding": null,
            "right": null,
            "top": null,
            "visibility": null,
            "width": null
          }
        },
        "e93478d33283471b8f09f957a4f45d0f": {
          "model_module": "@jupyter-widgets/controls",
          "model_name": "ProgressStyleModel",
          "model_module_version": "1.5.0",
          "state": {
            "_model_module": "@jupyter-widgets/controls",
            "_model_module_version": "1.5.0",
            "_model_name": "ProgressStyleModel",
            "_view_count": null,
            "_view_module": "@jupyter-widgets/base",
            "_view_module_version": "1.2.0",
            "_view_name": "StyleView",
            "bar_color": null,
            "description_width": ""
          }
        },
        "6a42beb6567e460db14726a023fa3da2": {
          "model_module": "@jupyter-widgets/base",
          "model_name": "LayoutModel",
          "model_module_version": "1.2.0",
          "state": {
            "_model_module": "@jupyter-widgets/base",
            "_model_module_version": "1.2.0",
            "_model_name": "LayoutModel",
            "_view_count": null,
            "_view_module": "@jupyter-widgets/base",
            "_view_module_version": "1.2.0",
            "_view_name": "LayoutView",
            "align_content": null,
            "align_items": null,
            "align_self": null,
            "border": null,
            "bottom": null,
            "display": null,
            "flex": null,
            "flex_flow": null,
            "grid_area": null,
            "grid_auto_columns": null,
            "grid_auto_flow": null,
            "grid_auto_rows": null,
            "grid_column": null,
            "grid_gap": null,
            "grid_row": null,
            "grid_template_areas": null,
            "grid_template_columns": null,
            "grid_template_rows": null,
            "height": null,
            "justify_content": null,
            "justify_items": null,
            "left": null,
            "margin": null,
            "max_height": null,
            "max_width": null,
            "min_height": null,
            "min_width": null,
            "object_fit": null,
            "object_position": null,
            "order": null,
            "overflow": null,
            "overflow_x": null,
            "overflow_y": null,
            "padding": null,
            "right": null,
            "top": null,
            "visibility": null,
            "width": null
          }
        },
        "fad807ed2c7148c7a80fdb4f975a996b": {
          "model_module": "@jupyter-widgets/controls",
          "model_name": "DescriptionStyleModel",
          "model_module_version": "1.5.0",
          "state": {
            "_model_module": "@jupyter-widgets/controls",
            "_model_module_version": "1.5.0",
            "_model_name": "DescriptionStyleModel",
            "_view_count": null,
            "_view_module": "@jupyter-widgets/base",
            "_view_module_version": "1.2.0",
            "_view_name": "StyleView",
            "description_width": ""
          }
        },
        "89f92f2585f54b5e84b7815cf45f3165": {
          "model_module": "@jupyter-widgets/controls",
          "model_name": "HBoxModel",
          "model_module_version": "1.5.0",
          "state": {
            "_dom_classes": [],
            "_model_module": "@jupyter-widgets/controls",
            "_model_module_version": "1.5.0",
            "_model_name": "HBoxModel",
            "_view_count": null,
            "_view_module": "@jupyter-widgets/controls",
            "_view_module_version": "1.5.0",
            "_view_name": "HBoxView",
            "box_style": "",
            "children": [
              "IPY_MODEL_1c5048d4525e40ceb416415d50e292ef",
              "IPY_MODEL_9dc3ba8fc34a49df971186f88daed701",
              "IPY_MODEL_c17f9fc3d78e4f31859cf6528ead67c7"
            ],
            "layout": "IPY_MODEL_3f81b68ca03141c7b52736b7d9c15f70"
          }
        },
        "1c5048d4525e40ceb416415d50e292ef": {
          "model_module": "@jupyter-widgets/controls",
          "model_name": "HTMLModel",
          "model_module_version": "1.5.0",
          "state": {
            "_dom_classes": [],
            "_model_module": "@jupyter-widgets/controls",
            "_model_module_version": "1.5.0",
            "_model_name": "HTMLModel",
            "_view_count": null,
            "_view_module": "@jupyter-widgets/controls",
            "_view_module_version": "1.5.0",
            "_view_name": "HTMLView",
            "description": "",
            "description_tooltip": null,
            "layout": "IPY_MODEL_c59e743b1403496f96d741ce4e1cce93",
            "placeholder": "​",
            "style": "IPY_MODEL_74030762d1c8460987a367fd58b73fe4",
            "value": "Downloading (…)lve/main/config.json: 100%"
          }
        },
        "9dc3ba8fc34a49df971186f88daed701": {
          "model_module": "@jupyter-widgets/controls",
          "model_name": "FloatProgressModel",
          "model_module_version": "1.5.0",
          "state": {
            "_dom_classes": [],
            "_model_module": "@jupyter-widgets/controls",
            "_model_module_version": "1.5.0",
            "_model_name": "FloatProgressModel",
            "_view_count": null,
            "_view_module": "@jupyter-widgets/controls",
            "_view_module_version": "1.5.0",
            "_view_name": "ProgressView",
            "bar_style": "success",
            "description": "",
            "description_tooltip": null,
            "layout": "IPY_MODEL_d2557675824e49ba80754f1b214989b8",
            "max": 483,
            "min": 0,
            "orientation": "horizontal",
            "style": "IPY_MODEL_1754633ecf48497eb7f9f31651a392ae",
            "value": 483
          }
        },
        "c17f9fc3d78e4f31859cf6528ead67c7": {
          "model_module": "@jupyter-widgets/controls",
          "model_name": "HTMLModel",
          "model_module_version": "1.5.0",
          "state": {
            "_dom_classes": [],
            "_model_module": "@jupyter-widgets/controls",
            "_model_module_version": "1.5.0",
            "_model_name": "HTMLModel",
            "_view_count": null,
            "_view_module": "@jupyter-widgets/controls",
            "_view_module_version": "1.5.0",
            "_view_name": "HTMLView",
            "description": "",
            "description_tooltip": null,
            "layout": "IPY_MODEL_c9dce9cf43ff41c884f944f2373c4e90",
            "placeholder": "​",
            "style": "IPY_MODEL_a7eb35ecb1904bef87150f246fbd450e",
            "value": " 483/483 [00:00&lt;00:00, 42.6kB/s]"
          }
        },
        "3f81b68ca03141c7b52736b7d9c15f70": {
          "model_module": "@jupyter-widgets/base",
          "model_name": "LayoutModel",
          "model_module_version": "1.2.0",
          "state": {
            "_model_module": "@jupyter-widgets/base",
            "_model_module_version": "1.2.0",
            "_model_name": "LayoutModel",
            "_view_count": null,
            "_view_module": "@jupyter-widgets/base",
            "_view_module_version": "1.2.0",
            "_view_name": "LayoutView",
            "align_content": null,
            "align_items": null,
            "align_self": null,
            "border": null,
            "bottom": null,
            "display": null,
            "flex": null,
            "flex_flow": null,
            "grid_area": null,
            "grid_auto_columns": null,
            "grid_auto_flow": null,
            "grid_auto_rows": null,
            "grid_column": null,
            "grid_gap": null,
            "grid_row": null,
            "grid_template_areas": null,
            "grid_template_columns": null,
            "grid_template_rows": null,
            "height": null,
            "justify_content": null,
            "justify_items": null,
            "left": null,
            "margin": null,
            "max_height": null,
            "max_width": null,
            "min_height": null,
            "min_width": null,
            "object_fit": null,
            "object_position": null,
            "order": null,
            "overflow": null,
            "overflow_x": null,
            "overflow_y": null,
            "padding": null,
            "right": null,
            "top": null,
            "visibility": null,
            "width": null
          }
        },
        "c59e743b1403496f96d741ce4e1cce93": {
          "model_module": "@jupyter-widgets/base",
          "model_name": "LayoutModel",
          "model_module_version": "1.2.0",
          "state": {
            "_model_module": "@jupyter-widgets/base",
            "_model_module_version": "1.2.0",
            "_model_name": "LayoutModel",
            "_view_count": null,
            "_view_module": "@jupyter-widgets/base",
            "_view_module_version": "1.2.0",
            "_view_name": "LayoutView",
            "align_content": null,
            "align_items": null,
            "align_self": null,
            "border": null,
            "bottom": null,
            "display": null,
            "flex": null,
            "flex_flow": null,
            "grid_area": null,
            "grid_auto_columns": null,
            "grid_auto_flow": null,
            "grid_auto_rows": null,
            "grid_column": null,
            "grid_gap": null,
            "grid_row": null,
            "grid_template_areas": null,
            "grid_template_columns": null,
            "grid_template_rows": null,
            "height": null,
            "justify_content": null,
            "justify_items": null,
            "left": null,
            "margin": null,
            "max_height": null,
            "max_width": null,
            "min_height": null,
            "min_width": null,
            "object_fit": null,
            "object_position": null,
            "order": null,
            "overflow": null,
            "overflow_x": null,
            "overflow_y": null,
            "padding": null,
            "right": null,
            "top": null,
            "visibility": null,
            "width": null
          }
        },
        "74030762d1c8460987a367fd58b73fe4": {
          "model_module": "@jupyter-widgets/controls",
          "model_name": "DescriptionStyleModel",
          "model_module_version": "1.5.0",
          "state": {
            "_model_module": "@jupyter-widgets/controls",
            "_model_module_version": "1.5.0",
            "_model_name": "DescriptionStyleModel",
            "_view_count": null,
            "_view_module": "@jupyter-widgets/base",
            "_view_module_version": "1.2.0",
            "_view_name": "StyleView",
            "description_width": ""
          }
        },
        "d2557675824e49ba80754f1b214989b8": {
          "model_module": "@jupyter-widgets/base",
          "model_name": "LayoutModel",
          "model_module_version": "1.2.0",
          "state": {
            "_model_module": "@jupyter-widgets/base",
            "_model_module_version": "1.2.0",
            "_model_name": "LayoutModel",
            "_view_count": null,
            "_view_module": "@jupyter-widgets/base",
            "_view_module_version": "1.2.0",
            "_view_name": "LayoutView",
            "align_content": null,
            "align_items": null,
            "align_self": null,
            "border": null,
            "bottom": null,
            "display": null,
            "flex": null,
            "flex_flow": null,
            "grid_area": null,
            "grid_auto_columns": null,
            "grid_auto_flow": null,
            "grid_auto_rows": null,
            "grid_column": null,
            "grid_gap": null,
            "grid_row": null,
            "grid_template_areas": null,
            "grid_template_columns": null,
            "grid_template_rows": null,
            "height": null,
            "justify_content": null,
            "justify_items": null,
            "left": null,
            "margin": null,
            "max_height": null,
            "max_width": null,
            "min_height": null,
            "min_width": null,
            "object_fit": null,
            "object_position": null,
            "order": null,
            "overflow": null,
            "overflow_x": null,
            "overflow_y": null,
            "padding": null,
            "right": null,
            "top": null,
            "visibility": null,
            "width": null
          }
        },
        "1754633ecf48497eb7f9f31651a392ae": {
          "model_module": "@jupyter-widgets/controls",
          "model_name": "ProgressStyleModel",
          "model_module_version": "1.5.0",
          "state": {
            "_model_module": "@jupyter-widgets/controls",
            "_model_module_version": "1.5.0",
            "_model_name": "ProgressStyleModel",
            "_view_count": null,
            "_view_module": "@jupyter-widgets/base",
            "_view_module_version": "1.2.0",
            "_view_name": "StyleView",
            "bar_color": null,
            "description_width": ""
          }
        },
        "c9dce9cf43ff41c884f944f2373c4e90": {
          "model_module": "@jupyter-widgets/base",
          "model_name": "LayoutModel",
          "model_module_version": "1.2.0",
          "state": {
            "_model_module": "@jupyter-widgets/base",
            "_model_module_version": "1.2.0",
            "_model_name": "LayoutModel",
            "_view_count": null,
            "_view_module": "@jupyter-widgets/base",
            "_view_module_version": "1.2.0",
            "_view_name": "LayoutView",
            "align_content": null,
            "align_items": null,
            "align_self": null,
            "border": null,
            "bottom": null,
            "display": null,
            "flex": null,
            "flex_flow": null,
            "grid_area": null,
            "grid_auto_columns": null,
            "grid_auto_flow": null,
            "grid_auto_rows": null,
            "grid_column": null,
            "grid_gap": null,
            "grid_row": null,
            "grid_template_areas": null,
            "grid_template_columns": null,
            "grid_template_rows": null,
            "height": null,
            "justify_content": null,
            "justify_items": null,
            "left": null,
            "margin": null,
            "max_height": null,
            "max_width": null,
            "min_height": null,
            "min_width": null,
            "object_fit": null,
            "object_position": null,
            "order": null,
            "overflow": null,
            "overflow_x": null,
            "overflow_y": null,
            "padding": null,
            "right": null,
            "top": null,
            "visibility": null,
            "width": null
          }
        },
        "a7eb35ecb1904bef87150f246fbd450e": {
          "model_module": "@jupyter-widgets/controls",
          "model_name": "DescriptionStyleModel",
          "model_module_version": "1.5.0",
          "state": {
            "_model_module": "@jupyter-widgets/controls",
            "_model_module_version": "1.5.0",
            "_model_name": "DescriptionStyleModel",
            "_view_count": null,
            "_view_module": "@jupyter-widgets/base",
            "_view_module_version": "1.2.0",
            "_view_name": "StyleView",
            "description_width": ""
          }
        },
        "95e87790b06340ef8965f775d44cbcac": {
          "model_module": "@jupyter-widgets/controls",
          "model_name": "HBoxModel",
          "model_module_version": "1.5.0",
          "state": {
            "_dom_classes": [],
            "_model_module": "@jupyter-widgets/controls",
            "_model_module_version": "1.5.0",
            "_model_name": "HBoxModel",
            "_view_count": null,
            "_view_module": "@jupyter-widgets/controls",
            "_view_module_version": "1.5.0",
            "_view_name": "HBoxView",
            "box_style": "",
            "children": [
              "IPY_MODEL_946698b9df5f45ccadc75e002bfcd7a8",
              "IPY_MODEL_88a35c4e2049446891209f6c6a2572e2",
              "IPY_MODEL_4eccee2d8daf40d18a4d0d929df9c817"
            ],
            "layout": "IPY_MODEL_224cfd26d0d842188faa81eb828909ce"
          }
        },
        "946698b9df5f45ccadc75e002bfcd7a8": {
          "model_module": "@jupyter-widgets/controls",
          "model_name": "HTMLModel",
          "model_module_version": "1.5.0",
          "state": {
            "_dom_classes": [],
            "_model_module": "@jupyter-widgets/controls",
            "_model_module_version": "1.5.0",
            "_model_name": "HTMLModel",
            "_view_count": null,
            "_view_module": "@jupyter-widgets/controls",
            "_view_module_version": "1.5.0",
            "_view_name": "HTMLView",
            "description": "",
            "description_tooltip": null,
            "layout": "IPY_MODEL_f2ab2e5739f848f99d692a42d1b17643",
            "placeholder": "​",
            "style": "IPY_MODEL_bef56bbb87ce43198b86bce92d6e05f8",
            "value": "Downloading model.safetensors: 100%"
          }
        },
        "88a35c4e2049446891209f6c6a2572e2": {
          "model_module": "@jupyter-widgets/controls",
          "model_name": "FloatProgressModel",
          "model_module_version": "1.5.0",
          "state": {
            "_dom_classes": [],
            "_model_module": "@jupyter-widgets/controls",
            "_model_module_version": "1.5.0",
            "_model_name": "FloatProgressModel",
            "_view_count": null,
            "_view_module": "@jupyter-widgets/controls",
            "_view_module_version": "1.5.0",
            "_view_name": "ProgressView",
            "bar_style": "success",
            "description": "",
            "description_tooltip": null,
            "layout": "IPY_MODEL_01ecc4f1f6b74fdfad3886a0a572e85d",
            "max": 267954768,
            "min": 0,
            "orientation": "horizontal",
            "style": "IPY_MODEL_7a623815086c492f818018dde616b778",
            "value": 267954768
          }
        },
        "4eccee2d8daf40d18a4d0d929df9c817": {
          "model_module": "@jupyter-widgets/controls",
          "model_name": "HTMLModel",
          "model_module_version": "1.5.0",
          "state": {
            "_dom_classes": [],
            "_model_module": "@jupyter-widgets/controls",
            "_model_module_version": "1.5.0",
            "_model_name": "HTMLModel",
            "_view_count": null,
            "_view_module": "@jupyter-widgets/controls",
            "_view_module_version": "1.5.0",
            "_view_name": "HTMLView",
            "description": "",
            "description_tooltip": null,
            "layout": "IPY_MODEL_c805b6be6fde4f8ab61142f0de545cb4",
            "placeholder": "​",
            "style": "IPY_MODEL_bdb5a91ead1447848444ecff191e233b",
            "value": " 268M/268M [00:04&lt;00:00, 21.7MB/s]"
          }
        },
        "224cfd26d0d842188faa81eb828909ce": {
          "model_module": "@jupyter-widgets/base",
          "model_name": "LayoutModel",
          "model_module_version": "1.2.0",
          "state": {
            "_model_module": "@jupyter-widgets/base",
            "_model_module_version": "1.2.0",
            "_model_name": "LayoutModel",
            "_view_count": null,
            "_view_module": "@jupyter-widgets/base",
            "_view_module_version": "1.2.0",
            "_view_name": "LayoutView",
            "align_content": null,
            "align_items": null,
            "align_self": null,
            "border": null,
            "bottom": null,
            "display": null,
            "flex": null,
            "flex_flow": null,
            "grid_area": null,
            "grid_auto_columns": null,
            "grid_auto_flow": null,
            "grid_auto_rows": null,
            "grid_column": null,
            "grid_gap": null,
            "grid_row": null,
            "grid_template_areas": null,
            "grid_template_columns": null,
            "grid_template_rows": null,
            "height": null,
            "justify_content": null,
            "justify_items": null,
            "left": null,
            "margin": null,
            "max_height": null,
            "max_width": null,
            "min_height": null,
            "min_width": null,
            "object_fit": null,
            "object_position": null,
            "order": null,
            "overflow": null,
            "overflow_x": null,
            "overflow_y": null,
            "padding": null,
            "right": null,
            "top": null,
            "visibility": null,
            "width": null
          }
        },
        "f2ab2e5739f848f99d692a42d1b17643": {
          "model_module": "@jupyter-widgets/base",
          "model_name": "LayoutModel",
          "model_module_version": "1.2.0",
          "state": {
            "_model_module": "@jupyter-widgets/base",
            "_model_module_version": "1.2.0",
            "_model_name": "LayoutModel",
            "_view_count": null,
            "_view_module": "@jupyter-widgets/base",
            "_view_module_version": "1.2.0",
            "_view_name": "LayoutView",
            "align_content": null,
            "align_items": null,
            "align_self": null,
            "border": null,
            "bottom": null,
            "display": null,
            "flex": null,
            "flex_flow": null,
            "grid_area": null,
            "grid_auto_columns": null,
            "grid_auto_flow": null,
            "grid_auto_rows": null,
            "grid_column": null,
            "grid_gap": null,
            "grid_row": null,
            "grid_template_areas": null,
            "grid_template_columns": null,
            "grid_template_rows": null,
            "height": null,
            "justify_content": null,
            "justify_items": null,
            "left": null,
            "margin": null,
            "max_height": null,
            "max_width": null,
            "min_height": null,
            "min_width": null,
            "object_fit": null,
            "object_position": null,
            "order": null,
            "overflow": null,
            "overflow_x": null,
            "overflow_y": null,
            "padding": null,
            "right": null,
            "top": null,
            "visibility": null,
            "width": null
          }
        },
        "bef56bbb87ce43198b86bce92d6e05f8": {
          "model_module": "@jupyter-widgets/controls",
          "model_name": "DescriptionStyleModel",
          "model_module_version": "1.5.0",
          "state": {
            "_model_module": "@jupyter-widgets/controls",
            "_model_module_version": "1.5.0",
            "_model_name": "DescriptionStyleModel",
            "_view_count": null,
            "_view_module": "@jupyter-widgets/base",
            "_view_module_version": "1.2.0",
            "_view_name": "StyleView",
            "description_width": ""
          }
        },
        "01ecc4f1f6b74fdfad3886a0a572e85d": {
          "model_module": "@jupyter-widgets/base",
          "model_name": "LayoutModel",
          "model_module_version": "1.2.0",
          "state": {
            "_model_module": "@jupyter-widgets/base",
            "_model_module_version": "1.2.0",
            "_model_name": "LayoutModel",
            "_view_count": null,
            "_view_module": "@jupyter-widgets/base",
            "_view_module_version": "1.2.0",
            "_view_name": "LayoutView",
            "align_content": null,
            "align_items": null,
            "align_self": null,
            "border": null,
            "bottom": null,
            "display": null,
            "flex": null,
            "flex_flow": null,
            "grid_area": null,
            "grid_auto_columns": null,
            "grid_auto_flow": null,
            "grid_auto_rows": null,
            "grid_column": null,
            "grid_gap": null,
            "grid_row": null,
            "grid_template_areas": null,
            "grid_template_columns": null,
            "grid_template_rows": null,
            "height": null,
            "justify_content": null,
            "justify_items": null,
            "left": null,
            "margin": null,
            "max_height": null,
            "max_width": null,
            "min_height": null,
            "min_width": null,
            "object_fit": null,
            "object_position": null,
            "order": null,
            "overflow": null,
            "overflow_x": null,
            "overflow_y": null,
            "padding": null,
            "right": null,
            "top": null,
            "visibility": null,
            "width": null
          }
        },
        "7a623815086c492f818018dde616b778": {
          "model_module": "@jupyter-widgets/controls",
          "model_name": "ProgressStyleModel",
          "model_module_version": "1.5.0",
          "state": {
            "_model_module": "@jupyter-widgets/controls",
            "_model_module_version": "1.5.0",
            "_model_name": "ProgressStyleModel",
            "_view_count": null,
            "_view_module": "@jupyter-widgets/base",
            "_view_module_version": "1.2.0",
            "_view_name": "StyleView",
            "bar_color": null,
            "description_width": ""
          }
        },
        "c805b6be6fde4f8ab61142f0de545cb4": {
          "model_module": "@jupyter-widgets/base",
          "model_name": "LayoutModel",
          "model_module_version": "1.2.0",
          "state": {
            "_model_module": "@jupyter-widgets/base",
            "_model_module_version": "1.2.0",
            "_model_name": "LayoutModel",
            "_view_count": null,
            "_view_module": "@jupyter-widgets/base",
            "_view_module_version": "1.2.0",
            "_view_name": "LayoutView",
            "align_content": null,
            "align_items": null,
            "align_self": null,
            "border": null,
            "bottom": null,
            "display": null,
            "flex": null,
            "flex_flow": null,
            "grid_area": null,
            "grid_auto_columns": null,
            "grid_auto_flow": null,
            "grid_auto_rows": null,
            "grid_column": null,
            "grid_gap": null,
            "grid_row": null,
            "grid_template_areas": null,
            "grid_template_columns": null,
            "grid_template_rows": null,
            "height": null,
            "justify_content": null,
            "justify_items": null,
            "left": null,
            "margin": null,
            "max_height": null,
            "max_width": null,
            "min_height": null,
            "min_width": null,
            "object_fit": null,
            "object_position": null,
            "order": null,
            "overflow": null,
            "overflow_x": null,
            "overflow_y": null,
            "padding": null,
            "right": null,
            "top": null,
            "visibility": null,
            "width": null
          }
        },
        "bdb5a91ead1447848444ecff191e233b": {
          "model_module": "@jupyter-widgets/controls",
          "model_name": "DescriptionStyleModel",
          "model_module_version": "1.5.0",
          "state": {
            "_model_module": "@jupyter-widgets/controls",
            "_model_module_version": "1.5.0",
            "_model_name": "DescriptionStyleModel",
            "_view_count": null,
            "_view_module": "@jupyter-widgets/base",
            "_view_module_version": "1.2.0",
            "_view_name": "StyleView",
            "description_width": ""
          }
        },
        "da01800b64f0469d94c0837af4782a14": {
          "model_module": "@jupyter-widgets/controls",
          "model_name": "HBoxModel",
          "model_module_version": "1.5.0",
          "state": {
            "_dom_classes": [],
            "_model_module": "@jupyter-widgets/controls",
            "_model_module_version": "1.5.0",
            "_model_name": "HBoxModel",
            "_view_count": null,
            "_view_module": "@jupyter-widgets/controls",
            "_view_module_version": "1.5.0",
            "_view_name": "HBoxView",
            "box_style": "",
            "children": [
              "IPY_MODEL_1e06895de782496fb4bc2bec25d04e65",
              "IPY_MODEL_8551668b20d6400987438429adb2e9a7",
              "IPY_MODEL_64b2cd74efe4492c9e2201075b533b2e"
            ],
            "layout": "IPY_MODEL_79266ef4bc8c4f5fa57b7d170d6edbe4"
          }
        },
        "1e06895de782496fb4bc2bec25d04e65": {
          "model_module": "@jupyter-widgets/controls",
          "model_name": "HTMLModel",
          "model_module_version": "1.5.0",
          "state": {
            "_dom_classes": [],
            "_model_module": "@jupyter-widgets/controls",
            "_model_module_version": "1.5.0",
            "_model_name": "HTMLModel",
            "_view_count": null,
            "_view_module": "@jupyter-widgets/controls",
            "_view_module_version": "1.5.0",
            "_view_name": "HTMLView",
            "description": "",
            "description_tooltip": null,
            "layout": "IPY_MODEL_d3d066a6e23f47dbaf174c6d14545926",
            "placeholder": "​",
            "style": "IPY_MODEL_06780fb9b25f4ce09c578a8dda80ae2a",
            "value": "tf_model.h5: 100%"
          }
        },
        "8551668b20d6400987438429adb2e9a7": {
          "model_module": "@jupyter-widgets/controls",
          "model_name": "FloatProgressModel",
          "model_module_version": "1.5.0",
          "state": {
            "_dom_classes": [],
            "_model_module": "@jupyter-widgets/controls",
            "_model_module_version": "1.5.0",
            "_model_name": "FloatProgressModel",
            "_view_count": null,
            "_view_module": "@jupyter-widgets/controls",
            "_view_module_version": "1.5.0",
            "_view_name": "ProgressView",
            "bar_style": "success",
            "description": "",
            "description_tooltip": null,
            "layout": "IPY_MODEL_bc223b0a427c47c386f966c707cb06d3",
            "max": 268074688,
            "min": 0,
            "orientation": "horizontal",
            "style": "IPY_MODEL_432699914dc34ac0b7ae2ff9df9435ce",
            "value": 268074688
          }
        },
        "64b2cd74efe4492c9e2201075b533b2e": {
          "model_module": "@jupyter-widgets/controls",
          "model_name": "HTMLModel",
          "model_module_version": "1.5.0",
          "state": {
            "_dom_classes": [],
            "_model_module": "@jupyter-widgets/controls",
            "_model_module_version": "1.5.0",
            "_model_name": "HTMLModel",
            "_view_count": null,
            "_view_module": "@jupyter-widgets/controls",
            "_view_module_version": "1.5.0",
            "_view_name": "HTMLView",
            "description": "",
            "description_tooltip": null,
            "layout": "IPY_MODEL_350e4bf90709497f929c31835978d186",
            "placeholder": "​",
            "style": "IPY_MODEL_2baa1baf023b4a909d1f209d465acc6e",
            "value": " 268M/268M [00:06&lt;00:00, 50.6MB/s]"
          }
        },
        "79266ef4bc8c4f5fa57b7d170d6edbe4": {
          "model_module": "@jupyter-widgets/base",
          "model_name": "LayoutModel",
          "model_module_version": "1.2.0",
          "state": {
            "_model_module": "@jupyter-widgets/base",
            "_model_module_version": "1.2.0",
            "_model_name": "LayoutModel",
            "_view_count": null,
            "_view_module": "@jupyter-widgets/base",
            "_view_module_version": "1.2.0",
            "_view_name": "LayoutView",
            "align_content": null,
            "align_items": null,
            "align_self": null,
            "border": null,
            "bottom": null,
            "display": null,
            "flex": null,
            "flex_flow": null,
            "grid_area": null,
            "grid_auto_columns": null,
            "grid_auto_flow": null,
            "grid_auto_rows": null,
            "grid_column": null,
            "grid_gap": null,
            "grid_row": null,
            "grid_template_areas": null,
            "grid_template_columns": null,
            "grid_template_rows": null,
            "height": null,
            "justify_content": null,
            "justify_items": null,
            "left": null,
            "margin": null,
            "max_height": null,
            "max_width": null,
            "min_height": null,
            "min_width": null,
            "object_fit": null,
            "object_position": null,
            "order": null,
            "overflow": null,
            "overflow_x": null,
            "overflow_y": null,
            "padding": null,
            "right": null,
            "top": null,
            "visibility": null,
            "width": null
          }
        },
        "d3d066a6e23f47dbaf174c6d14545926": {
          "model_module": "@jupyter-widgets/base",
          "model_name": "LayoutModel",
          "model_module_version": "1.2.0",
          "state": {
            "_model_module": "@jupyter-widgets/base",
            "_model_module_version": "1.2.0",
            "_model_name": "LayoutModel",
            "_view_count": null,
            "_view_module": "@jupyter-widgets/base",
            "_view_module_version": "1.2.0",
            "_view_name": "LayoutView",
            "align_content": null,
            "align_items": null,
            "align_self": null,
            "border": null,
            "bottom": null,
            "display": null,
            "flex": null,
            "flex_flow": null,
            "grid_area": null,
            "grid_auto_columns": null,
            "grid_auto_flow": null,
            "grid_auto_rows": null,
            "grid_column": null,
            "grid_gap": null,
            "grid_row": null,
            "grid_template_areas": null,
            "grid_template_columns": null,
            "grid_template_rows": null,
            "height": null,
            "justify_content": null,
            "justify_items": null,
            "left": null,
            "margin": null,
            "max_height": null,
            "max_width": null,
            "min_height": null,
            "min_width": null,
            "object_fit": null,
            "object_position": null,
            "order": null,
            "overflow": null,
            "overflow_x": null,
            "overflow_y": null,
            "padding": null,
            "right": null,
            "top": null,
            "visibility": null,
            "width": null
          }
        },
        "06780fb9b25f4ce09c578a8dda80ae2a": {
          "model_module": "@jupyter-widgets/controls",
          "model_name": "DescriptionStyleModel",
          "model_module_version": "1.5.0",
          "state": {
            "_model_module": "@jupyter-widgets/controls",
            "_model_module_version": "1.5.0",
            "_model_name": "DescriptionStyleModel",
            "_view_count": null,
            "_view_module": "@jupyter-widgets/base",
            "_view_module_version": "1.2.0",
            "_view_name": "StyleView",
            "description_width": ""
          }
        },
        "bc223b0a427c47c386f966c707cb06d3": {
          "model_module": "@jupyter-widgets/base",
          "model_name": "LayoutModel",
          "model_module_version": "1.2.0",
          "state": {
            "_model_module": "@jupyter-widgets/base",
            "_model_module_version": "1.2.0",
            "_model_name": "LayoutModel",
            "_view_count": null,
            "_view_module": "@jupyter-widgets/base",
            "_view_module_version": "1.2.0",
            "_view_name": "LayoutView",
            "align_content": null,
            "align_items": null,
            "align_self": null,
            "border": null,
            "bottom": null,
            "display": null,
            "flex": null,
            "flex_flow": null,
            "grid_area": null,
            "grid_auto_columns": null,
            "grid_auto_flow": null,
            "grid_auto_rows": null,
            "grid_column": null,
            "grid_gap": null,
            "grid_row": null,
            "grid_template_areas": null,
            "grid_template_columns": null,
            "grid_template_rows": null,
            "height": null,
            "justify_content": null,
            "justify_items": null,
            "left": null,
            "margin": null,
            "max_height": null,
            "max_width": null,
            "min_height": null,
            "min_width": null,
            "object_fit": null,
            "object_position": null,
            "order": null,
            "overflow": null,
            "overflow_x": null,
            "overflow_y": null,
            "padding": null,
            "right": null,
            "top": null,
            "visibility": null,
            "width": null
          }
        },
        "432699914dc34ac0b7ae2ff9df9435ce": {
          "model_module": "@jupyter-widgets/controls",
          "model_name": "ProgressStyleModel",
          "model_module_version": "1.5.0",
          "state": {
            "_model_module": "@jupyter-widgets/controls",
            "_model_module_version": "1.5.0",
            "_model_name": "ProgressStyleModel",
            "_view_count": null,
            "_view_module": "@jupyter-widgets/base",
            "_view_module_version": "1.2.0",
            "_view_name": "StyleView",
            "bar_color": null,
            "description_width": ""
          }
        },
        "350e4bf90709497f929c31835978d186": {
          "model_module": "@jupyter-widgets/base",
          "model_name": "LayoutModel",
          "model_module_version": "1.2.0",
          "state": {
            "_model_module": "@jupyter-widgets/base",
            "_model_module_version": "1.2.0",
            "_model_name": "LayoutModel",
            "_view_count": null,
            "_view_module": "@jupyter-widgets/base",
            "_view_module_version": "1.2.0",
            "_view_name": "LayoutView",
            "align_content": null,
            "align_items": null,
            "align_self": null,
            "border": null,
            "bottom": null,
            "display": null,
            "flex": null,
            "flex_flow": null,
            "grid_area": null,
            "grid_auto_columns": null,
            "grid_auto_flow": null,
            "grid_auto_rows": null,
            "grid_column": null,
            "grid_gap": null,
            "grid_row": null,
            "grid_template_areas": null,
            "grid_template_columns": null,
            "grid_template_rows": null,
            "height": null,
            "justify_content": null,
            "justify_items": null,
            "left": null,
            "margin": null,
            "max_height": null,
            "max_width": null,
            "min_height": null,
            "min_width": null,
            "object_fit": null,
            "object_position": null,
            "order": null,
            "overflow": null,
            "overflow_x": null,
            "overflow_y": null,
            "padding": null,
            "right": null,
            "top": null,
            "visibility": null,
            "width": null
          }
        },
        "2baa1baf023b4a909d1f209d465acc6e": {
          "model_module": "@jupyter-widgets/controls",
          "model_name": "DescriptionStyleModel",
          "model_module_version": "1.5.0",
          "state": {
            "_model_module": "@jupyter-widgets/controls",
            "_model_module_version": "1.5.0",
            "_model_name": "DescriptionStyleModel",
            "_view_count": null,
            "_view_module": "@jupyter-widgets/base",
            "_view_module_version": "1.2.0",
            "_view_name": "StyleView",
            "description_width": ""
          }
        }
      }
    }
  },
  "cells": [
    {
      "cell_type": "markdown",
      "metadata": {
        "id": "view-in-github",
        "colab_type": "text"
      },
      "source": [
        "<a href=\"https://colab.research.google.com/github/itsmuditt/Stock_Price_Prediction/blob/main/News_Scrapping.ipynb\" target=\"_parent\"><img src=\"https://colab.research.google.com/assets/colab-badge.svg\" alt=\"Open In Colab\"/></a>"
      ]
    },
    {
      "cell_type": "markdown",
      "source": [
        "## **WEB SCRAPING**\n",
        "\n",
        "---\n",
        "We will scrape headlines from websites using the piece of code in this segment.\n",
        "\n",
        "\n",
        "---\n",
        "\n",
        "\n"
      ],
      "metadata": {
        "id": "IPPB-cpPRt_-"
      }
    },
    {
      "cell_type": "code",
      "execution_count": null,
      "metadata": {
        "id": "qnCcTMSp73t-"
      },
      "outputs": [],
      "source": [
        "import requests\n",
        "from bs4 import BeautifulSoup\n",
        "import numpy as np\n",
        "import pandas as pd"
      ]
    },
    {
      "cell_type": "code",
      "source": [
        "import datetime\n",
        "start_date = datetime.datetime(2013, 1, 1)\n",
        "\n",
        "date_list = [start_date.date() + datetime.timedelta(days=x) for x in range(44976-41275)]\n",
        "dates = [x.strftime(\"%d-%m-%Y\") for x in date_list]"
      ],
      "metadata": {
        "id": "_cxRZ1GUKcQG"
      },
      "execution_count": null,
      "outputs": []
    },
    {
      "cell_type": "markdown",
      "source": [
        "\n",
        "### **Economic Times Website's Archieves**\n",
        "\n",
        "---\n",
        "\n",
        "\n",
        "```\n",
        "# Doing it for Economic Times website's ARCHIEVES\n",
        "```\n",
        "\n"
      ],
      "metadata": {
        "id": "wAgusAoVDLH5"
      }
    },
    {
      "cell_type": "code",
      "source": [
        "news = []\n",
        "for starttime in range(41275, 44976):\n",
        "  url=f'https://economictimes.indiatimes.com/archivelist/starttime-{starttime}.cms'\n",
        "  response = requests.get(url)\n",
        "\n",
        "  soup = BeautifulSoup(response.text, 'html.parser')\n",
        "  headlines = soup.body.find_all('td', class_=\"contentbox5\")\n",
        "  day = []\n",
        "  for x in headlines:\n",
        "    y = x.find_all('a')\n",
        "    for heads in y:\n",
        "      temp = heads.text.strip()\n",
        "      if len(temp.split())>4:\n",
        "        day.append(temp)\n",
        "\n",
        "  news.append(day)"
      ],
      "metadata": {
        "id": "J2S0H7CKKXh2"
      },
      "execution_count": null,
      "outputs": []
    },
    {
      "cell_type": "code",
      "source": [
        "news_et_df = pd.DataFrame(list(zip(dates, news )))"
      ],
      "metadata": {
        "id": "UXg5hXOO7eWC"
      },
      "execution_count": null,
      "outputs": []
    },
    {
      "cell_type": "code",
      "source": [
        "news_et_df.to_csv('news_et.csv')"
      ],
      "metadata": {
        "id": "rDSBM3TCzk68"
      },
      "execution_count": null,
      "outputs": []
    },
    {
      "cell_type": "markdown",
      "source": [
        "\n",
        "### **Times of India Website's Archieves**\n",
        "\n",
        "---\n",
        "\n",
        "\n",
        "```\n",
        "# Doing it for Times of India website's ARCHIEVES\n",
        "```\n",
        "\n"
      ],
      "metadata": {
        "id": "MSQD51LZDlYl"
      }
    },
    {
      "cell_type": "code",
      "source": [
        "news_toi = []\n",
        "for starttime in range(41275, 44976):\n",
        "  url=f'https://timesofindia.indiatimes.com/archivelist/starttime-{starttime}.cms'\n",
        "  response = requests.get(url)\n",
        "\n",
        "  soup = BeautifulSoup(response.text, 'html.parser')\n",
        "  headlines = soup.body.find_all('span')\n",
        "  day = []\n",
        "  for x in headlines:\n",
        "    y = x.find_all('a')\n",
        "    for heads in y:\n",
        "      temp = heads.text.strip()\n",
        "      if len(temp.split())>4:\n",
        "        day.append(temp)\n",
        "\n",
        "  news_toi.append(day)"
      ],
      "metadata": {
        "id": "RHpwFlNBjfLs"
      },
      "execution_count": null,
      "outputs": []
    },
    {
      "cell_type": "code",
      "source": [
        "news_toi_df = pd.DataFrame(list(zip(dates, news_toi)))"
      ],
      "metadata": {
        "id": "AUHgdFHrjyTC"
      },
      "execution_count": null,
      "outputs": []
    },
    {
      "cell_type": "code",
      "source": [
        "news_toi_df.to_csv('news_toi.csv')"
      ],
      "metadata": {
        "id": "iB_OXRkooOdd"
      },
      "execution_count": null,
      "outputs": []
    },
    {
      "cell_type": "markdown",
      "source": [
        "\n",
        "\n",
        "---\n",
        "\n",
        "\n",
        "\n",
        "---\n",
        "\n"
      ],
      "metadata": {
        "id": "3ko0g3IzKUnM"
      }
    },
    {
      "cell_type": "markdown",
      "source": [
        "## **Revising our DATASET**\n",
        "\n",
        "---\n",
        "\n",
        "```\n",
        "The dataset we were left with, after web scraping, had all the headlines into one column.\n",
        "\n",
        "The below segment of code, changes it to having as many columns as the particular row requires.\n",
        "\n",
        "```\n",
        "\n",
        "\n",
        "\n",
        "---\n",
        "\n"
      ],
      "metadata": {
        "id": "nlP_QAcJIj0i"
      }
    },
    {
      "cell_type": "code",
      "source": [
        "import pandas as pd"
      ],
      "metadata": {
        "id": "QIfHwvNUKNrb"
      },
      "execution_count": null,
      "outputs": []
    },
    {
      "cell_type": "code",
      "source": [
        "net = pd.read_csv('news_et.csv')"
      ],
      "metadata": {
        "id": "sPmc3W62IpAK"
      },
      "execution_count": null,
      "outputs": []
    },
    {
      "cell_type": "code",
      "source": [
        "ntoi = pd.read_csv('news_toi.csv')"
      ],
      "metadata": {
        "id": "u1CgAXyR8HsY"
      },
      "execution_count": null,
      "outputs": []
    },
    {
      "cell_type": "code",
      "source": [
        "def split_sentences(row):\n",
        "    max_sentences = len(row['Headlines'])\n",
        "    cnt = 1\n",
        "    i = 2\n",
        "    while i < max_sentences:\n",
        "        stri = ['\\', \"', '\", \\'', '\\', \\'', '\", \"']\n",
        "        tmp = [row['Headlines'].find(stri[0], i), row['Headlines'].find(stri[1], i), row['Headlines'].find(stri[2], i), row['Headlines'].find(stri[3], i)]\n",
        "        ans = 1e10\n",
        "        for t in tmp:\n",
        "            if t == -1:\n",
        "                t = 1e10\n",
        "            ans = min(ans, t)\n",
        "        if ans == 1e10:\n",
        "            ans = max_sentences - 2\n",
        "        j = ans\n",
        "\n",
        "        hea = row['Headlines'][i:j]\n",
        "        i = j + 4\n",
        "        if hea == '[' or hea == ']':\n",
        "            continue\n",
        "        row[f'{cnt}'] = hea\n",
        "        cnt = cnt + 1\n",
        "        print(hea)\n",
        "    return row"
      ],
      "metadata": {
        "id": "BcNEkuGIGUry"
      },
      "execution_count": null,
      "outputs": []
    },
    {
      "cell_type": "markdown",
      "source": [
        "\n",
        "\n",
        "---\n",
        "\n",
        "### **Applying for NET Dataset**\n",
        "\n",
        "\n",
        "---\n",
        "\n"
      ],
      "metadata": {
        "id": "PW6k3_zQ78s7"
      }
    },
    {
      "cell_type": "code",
      "source": [
        "# Apply the function to split sentences\n",
        "net = net.apply(split_sentences, axis=1)"
      ],
      "metadata": {
        "id": "-Ecx5Ev7GhtC"
      },
      "execution_count": null,
      "outputs": []
    },
    {
      "cell_type": "code",
      "source": [
        "# Drop the original 'Headlines' column\n",
        "net.drop(columns=['Headlines'], inplace=True)"
      ],
      "metadata": {
        "id": "8CLOR17tHI7Q"
      },
      "execution_count": null,
      "outputs": []
    },
    {
      "cell_type": "code",
      "source": [
        "# Rename the 'old_name' column to 'new_name'\n",
        "net = net.rename(columns={'Date': '0'})"
      ],
      "metadata": {
        "id": "ostgrqZM7puT"
      },
      "execution_count": null,
      "outputs": []
    },
    {
      "cell_type": "code",
      "source": [
        "# Convert column names to integers and sort them numerically\n",
        "net.columns = net.columns.astype(int)\n",
        "net = net.reindex(sorted(net.columns), axis=1)"
      ],
      "metadata": {
        "id": "Net1A7Cf7spR"
      },
      "execution_count": null,
      "outputs": []
    },
    {
      "cell_type": "code",
      "source": [
        "net.to_csv('et_rev.csv')"
      ],
      "metadata": {
        "id": "K82G7uCb5aGS"
      },
      "execution_count": null,
      "outputs": []
    },
    {
      "cell_type": "markdown",
      "source": [
        "\n",
        "\n",
        "---\n",
        "\n",
        "### **Applying for NTOI Dataset**\n",
        "\n",
        "\n",
        "---\n",
        "\n"
      ],
      "metadata": {
        "id": "zD6c13Kb8EvY"
      }
    },
    {
      "cell_type": "code",
      "source": [
        "# Apply the function to split sentences\n",
        "ntoi = ntoi.apply(split_sentences, axis=1)"
      ],
      "metadata": {
        "id": "x85BH3uU8Y30"
      },
      "execution_count": null,
      "outputs": []
    },
    {
      "cell_type": "code",
      "source": [
        "# Drop the original 'Headlines' column\n",
        "ntoi.drop(columns=['Headlines'], inplace=True)"
      ],
      "metadata": {
        "id": "Ht7cc1rw8hbi"
      },
      "execution_count": null,
      "outputs": []
    },
    {
      "cell_type": "code",
      "source": [
        "# Rename the 'old_name' column to 'new_name'\n",
        "ntoi = ntoi.rename(columns={'Date': '0'})"
      ],
      "metadata": {
        "id": "b3WPp94O8qJn"
      },
      "execution_count": null,
      "outputs": []
    },
    {
      "cell_type": "code",
      "source": [
        "# Convert column names to integers and sort them numerically\n",
        "ntoi.columns = ntoi.columns.astype(int)\n",
        "ntoi = ntoi.reindex(sorted(ntoi.columns), axis=1)"
      ],
      "metadata": {
        "id": "Hgf6XQvH8tNs"
      },
      "execution_count": null,
      "outputs": []
    },
    {
      "cell_type": "code",
      "source": [
        "ntoi.to_csv('toi_rev.csv')"
      ],
      "metadata": {
        "id": "wi_xQk7v84Pn"
      },
      "execution_count": null,
      "outputs": []
    },
    {
      "cell_type": "markdown",
      "source": [
        "\n",
        "---\n",
        "\n",
        "---\n",
        "\n",
        "---\n",
        "\n",
        "---\n"
      ],
      "metadata": {
        "id": "MjkR8btOK41q"
      }
    },
    {
      "cell_type": "markdown",
      "source": [
        "## **Refining DATASET**"
      ],
      "metadata": {
        "id": "p-hxl1p8eZA6"
      }
    },
    {
      "cell_type": "markdown",
      "source": [
        "\n",
        "\n",
        "---\n",
        "\n",
        "`\n",
        "The Dataset has been revised. Every Headline is now in a different cell.\n",
        "`\n",
        "\n",
        "---\n",
        "\n",
        "```\n",
        "In this segment of code, we refine the dataset.\n",
        "\n",
        "We keep only :-\n",
        "> Finance\n",
        "> Business\n",
        "> Science\n",
        "> Economy\n",
        "as the types of headlines in our dataset.\n",
        "\n",
        "```\n",
        "\n",
        "\n",
        "\n",
        "---\n",
        "\n",
        "\n",
        "\n"
      ],
      "metadata": {
        "id": "We8i0Bf689bq"
      }
    },
    {
      "cell_type": "markdown",
      "source": [
        "### Creating Database to fine-tune our Model"
      ],
      "metadata": {
        "id": "t2xuocZ54Cqz"
      }
    },
    {
      "cell_type": "markdown",
      "source": [
        "DATASE FROM HUFFPOST[KAGGLE DATASET]"
      ],
      "metadata": {
        "id": "66_NnrPTLjk1"
      }
    },
    {
      "cell_type": "code",
      "source": [
        "import pandas as pd"
      ],
      "metadata": {
        "id": "c-YPDXDA7u2h"
      },
      "execution_count": 5,
      "outputs": []
    },
    {
      "cell_type": "code",
      "source": [
        "new_df = pd.read_json('News_Category_Dataset_v3.json', lines=True)"
      ],
      "metadata": {
        "id": "8FcfLBqcvZIv"
      },
      "execution_count": 6,
      "outputs": []
    },
    {
      "cell_type": "code",
      "source": [
        "from google.colab import drive\n",
        "drive.mount('/content/drive')"
      ],
      "metadata": {
        "colab": {
          "base_uri": "https://localhost:8080/"
        },
        "id": "bjcZr9roLezt",
        "outputId": "1d41aeb6-7bb0-445e-e1b0-8f3cf5089520"
      },
      "execution_count": 7,
      "outputs": [
        {
          "output_type": "stream",
          "name": "stdout",
          "text": [
            "Drive already mounted at /content/drive; to attempt to forcibly remount, call drive.mount(\"/content/drive\", force_remount=True).\n"
          ]
        }
      ]
    },
    {
      "cell_type": "code",
      "source": [
        "# # shuffle the DataFrame rows\n",
        "# new_df = new_df.sample(frac = 1)"
      ],
      "metadata": {
        "id": "Iob_7G210YX4"
      },
      "execution_count": null,
      "outputs": []
    },
    {
      "cell_type": "code",
      "source": [
        "# dicti = new_df.headline[new_df.category=='QUEER VOICES'].values.tolist()\n",
        "# print(dicti)"
      ],
      "metadata": {
        "id": "gzlLXpwa3EBt"
      },
      "execution_count": null,
      "outputs": []
    },
    {
      "cell_type": "code",
      "source": [
        "# drop all rows that are redundant\n",
        "new_df = new_df.drop(new_df[new_df['category'] == 'GOOD NEWS'].index)"
      ],
      "metadata": {
        "id": "SYklxmop8o-a"
      },
      "execution_count": 8,
      "outputs": []
    },
    {
      "cell_type": "code",
      "source": [
        "# drop all rows that are redundant\n",
        "new_df = new_df.drop(new_df[new_df['category'] == 'PARENTS'].index)"
      ],
      "metadata": {
        "id": "Mgaj4bjh82XP"
      },
      "execution_count": 9,
      "outputs": []
    },
    {
      "cell_type": "code",
      "source": [
        "# drop all rows that are redundant\n",
        "new_df = new_df.drop(new_df[new_df['category'] == 'WEIRD NEWS'].index)"
      ],
      "metadata": {
        "id": "l4MLGH5K88zZ"
      },
      "execution_count": 10,
      "outputs": []
    },
    {
      "cell_type": "code",
      "source": [
        "# drop all rows that are redundant\n",
        "new_df = new_df.drop(new_df[new_df['category'] == 'QUEER VOICES'].index)"
      ],
      "metadata": {
        "id": "VdZb-IZ9-bAZ"
      },
      "execution_count": 11,
      "outputs": []
    },
    {
      "cell_type": "code",
      "source": [
        "# drop all rows that are redundant\n",
        "new_df = new_df.drop(new_df[new_df['category'] == 'FIFTY'].index)"
      ],
      "metadata": {
        "id": "8jTalktG-fl-"
      },
      "execution_count": 12,
      "outputs": []
    },
    {
      "cell_type": "code",
      "source": [
        "new_df.shape"
      ],
      "metadata": {
        "colab": {
          "base_uri": "https://localhost:8080/"
        },
        "id": "lX36S3P4-5FX",
        "outputId": "a0cf55fb-9ee0-46e6-da96-2ab7e1376d19"
      },
      "execution_count": null,
      "outputs": [
        {
          "output_type": "execute_result",
          "data": {
            "text/plain": [
              "(193649, 6)"
            ]
          },
          "metadata": {},
          "execution_count": 11
        }
      ]
    },
    {
      "cell_type": "code",
      "source": [
        "import numpy as np\n",
        "new_df.index = np.arange(0, len(new_df))"
      ],
      "metadata": {
        "id": "Yjap6hF6E02R"
      },
      "execution_count": 13,
      "outputs": []
    },
    {
      "cell_type": "code",
      "source": [
        "# dct={'MONEY':'FINANCE'}\n",
        "for j in range(len(new_df)):\n",
        "  i = new_df.category[j]\n",
        "  if i == 'ARTS' or i == 'CULTURE & ARTS':\n",
        "    new_df.category[j] = 'ARTS & CULTURE'\n",
        "  elif i == 'DIVORCE' or i == 'IMPACT' or i == 'LATINO VOICES' or i == 'PARENTING':\n",
        "    new_df.category[j] = 'SOCIETY'\n",
        "  elif i == 'WEDDINGS' or i == 'BLACK VOICES' or i == 'WOMEN':\n",
        "    new_df.category[j] = 'SOCIETY'\n",
        "  elif i == 'COLLEGE':\n",
        "    new_df.category[j] = 'EDUCATION'\n",
        "  elif i == 'COMEDY' or i == 'STYLE & BEAUTY':\n",
        "    new_df.category[j] = 'ENTERTAINMENT'\n",
        "  elif i == 'FOOD & DRINK' or i == 'TASTE':\n",
        "    new_df.category[j] = 'FOOD'\n",
        "  elif i == 'GREEN':\n",
        "    new_df.category[j] = 'ENVIRONMENT'\n",
        "  elif i == 'HEALTHY LIVING' or i == 'WELLNESS':\n",
        "    new_df.category[j] = 'HEALTH & MEDICINE'\n",
        "  elif i == 'HOME & LIVING' or i == 'STYLE' or i == 'TRAVEL':\n",
        "    new_df.category[j] = 'LIFESTYLE'\n",
        "  elif i == 'RELIGION':\n",
        "    new_df.category[j] = 'FAITH'\n",
        "  elif i == 'SCIENCE' or i == 'TECH':\n",
        "    new_df.category[j] = 'SCIENCE & TECHNOLOGY'\n",
        "  elif i == 'THE WORLDPOST' or i == 'U.S. NEWS' or i == 'WORLDPOST':\n",
        "    new_df.category[j] = 'WORLD NEWS'\n",
        "  elif i == 'MONEY':\n",
        "    new_df.category[j] = 'FINANCE'\n",
        "\n",
        "  # Alternative\n",
        "\n",
        "  # new_df.category[j]=dct[new_df.category[j]]"
      ],
      "metadata": {
        "id": "dcP9uE739Kn_",
        "colab": {
          "base_uri": "https://localhost:8080/"
        },
        "outputId": "d85fafa0-e8a8-47a5-fdd7-a662ace98593"
      },
      "execution_count": 17,
      "outputs": [
        {
          "output_type": "stream",
          "name": "stderr",
          "text": [
            "<ipython-input-17-ba6f45805496>:9: SettingWithCopyWarning: \n",
            "A value is trying to be set on a copy of a slice from a DataFrame\n",
            "\n",
            "See the caveats in the documentation: https://pandas.pydata.org/pandas-docs/stable/user_guide/indexing.html#returning-a-view-versus-a-copy\n",
            "  new_df.category[j] = 'SOCIETY'\n",
            "<ipython-input-17-ba6f45805496>:21: SettingWithCopyWarning: \n",
            "A value is trying to be set on a copy of a slice from a DataFrame\n",
            "\n",
            "See the caveats in the documentation: https://pandas.pydata.org/pandas-docs/stable/user_guide/indexing.html#returning-a-view-versus-a-copy\n",
            "  new_df.category[j] = 'LIFESTYLE'\n",
            "<ipython-input-17-ba6f45805496>:13: SettingWithCopyWarning: \n",
            "A value is trying to be set on a copy of a slice from a DataFrame\n",
            "\n",
            "See the caveats in the documentation: https://pandas.pydata.org/pandas-docs/stable/user_guide/indexing.html#returning-a-view-versus-a-copy\n",
            "  new_df.category[j] = 'ENTERTAINMENT'\n",
            "<ipython-input-17-ba6f45805496>:19: SettingWithCopyWarning: \n",
            "A value is trying to be set on a copy of a slice from a DataFrame\n",
            "\n",
            "See the caveats in the documentation: https://pandas.pydata.org/pandas-docs/stable/user_guide/indexing.html#returning-a-view-versus-a-copy\n",
            "  new_df.category[j] = 'HEALTH & MEDICINE'\n",
            "<ipython-input-17-ba6f45805496>:7: SettingWithCopyWarning: \n",
            "A value is trying to be set on a copy of a slice from a DataFrame\n",
            "\n",
            "See the caveats in the documentation: https://pandas.pydata.org/pandas-docs/stable/user_guide/indexing.html#returning-a-view-versus-a-copy\n",
            "  new_df.category[j] = 'SOCIETY'\n",
            "<ipython-input-17-ba6f45805496>:15: SettingWithCopyWarning: \n",
            "A value is trying to be set on a copy of a slice from a DataFrame\n",
            "\n",
            "See the caveats in the documentation: https://pandas.pydata.org/pandas-docs/stable/user_guide/indexing.html#returning-a-view-versus-a-copy\n",
            "  new_df.category[j] = 'FOOD'\n",
            "<ipython-input-17-ba6f45805496>:25: SettingWithCopyWarning: \n",
            "A value is trying to be set on a copy of a slice from a DataFrame\n",
            "\n",
            "See the caveats in the documentation: https://pandas.pydata.org/pandas-docs/stable/user_guide/indexing.html#returning-a-view-versus-a-copy\n",
            "  new_df.category[j] = 'SCIENCE & TECHNOLOGY'\n",
            "<ipython-input-17-ba6f45805496>:5: SettingWithCopyWarning: \n",
            "A value is trying to be set on a copy of a slice from a DataFrame\n",
            "\n",
            "See the caveats in the documentation: https://pandas.pydata.org/pandas-docs/stable/user_guide/indexing.html#returning-a-view-versus-a-copy\n",
            "  new_df.category[j] = 'ARTS & CULTURE'\n",
            "<ipython-input-17-ba6f45805496>:29: SettingWithCopyWarning: \n",
            "A value is trying to be set on a copy of a slice from a DataFrame\n",
            "\n",
            "See the caveats in the documentation: https://pandas.pydata.org/pandas-docs/stable/user_guide/indexing.html#returning-a-view-versus-a-copy\n",
            "  new_df.category[j] = 'FINANCE'\n"
          ]
        }
      ]
    },
    {
      "cell_type": "code",
      "source": [
        "len(set(new_df.category))"
      ],
      "metadata": {
        "colab": {
          "base_uri": "https://localhost:8080/"
        },
        "id": "SNBfUAizCwIk",
        "outputId": "7ad9e14b-ed01-446f-a80f-54f209e46d20"
      },
      "execution_count": null,
      "outputs": [
        {
          "output_type": "execute_result",
          "data": {
            "text/plain": [
              "17"
            ]
          },
          "metadata": {},
          "execution_count": 10
        }
      ]
    },
    {
      "cell_type": "code",
      "source": [
        "# drop all rows that are redundant\n",
        "new_df = new_df.drop(new_df[new_df['category'] == 'FAITH'].index)\n",
        "\n",
        "# drop all rows that are redundant\n",
        "new_df = new_df.drop(new_df[new_df['category'] == 'ARTS & CULTURE'].index)"
      ],
      "metadata": {
        "id": "9Z31EgbJJj0d"
      },
      "execution_count": 18,
      "outputs": []
    },
    {
      "cell_type": "code",
      "source": [
        "set(new_df.category)"
      ],
      "metadata": {
        "colab": {
          "base_uri": "https://localhost:8080/"
        },
        "id": "uHVqu26uJ06d",
        "outputId": "c48b8ac2-b93a-4ab0-f357-50865797f29b"
      },
      "execution_count": null,
      "outputs": [
        {
          "output_type": "execute_result",
          "data": {
            "text/plain": [
              "{'BUSINESS',\n",
              " 'CRIME',\n",
              " 'EDUCATION',\n",
              " 'ENTERTAINMENT',\n",
              " 'ENVIRONMENT',\n",
              " 'FINANCE',\n",
              " 'FOOD',\n",
              " 'HEALTH & MEDICINE',\n",
              " 'LIFESTYLE',\n",
              " 'MEDIA',\n",
              " 'POLITICS',\n",
              " 'SCIENCE & TECHNOLOGY',\n",
              " 'SOCIETY',\n",
              " 'SPORTS',\n",
              " 'WORLD NEWS'}"
            ]
          },
          "metadata": {},
          "execution_count": 11
        }
      ]
    },
    {
      "cell_type": "code",
      "source": [
        "import numpy as np\n",
        "new_df.index = np.arange(0, len(new_df))"
      ],
      "metadata": {
        "id": "dhZKH2ugJ8L0"
      },
      "execution_count": 19,
      "outputs": []
    },
    {
      "cell_type": "code",
      "source": [
        "len(new_df)"
      ],
      "metadata": {
        "colab": {
          "base_uri": "https://localhost:8080/"
        },
        "id": "Cv6mUxpJKBHs",
        "outputId": "aed547e3-1901-487b-a42f-b6b135710428"
      },
      "execution_count": null,
      "outputs": [
        {
          "output_type": "execute_result",
          "data": {
            "text/plain": [
              "187150"
            ]
          },
          "metadata": {},
          "execution_count": 13
        }
      ]
    },
    {
      "cell_type": "markdown",
      "source": [
        "DATASET from newsapi client"
      ],
      "metadata": {
        "id": "vW_qJMUZLtlS"
      }
    },
    {
      "cell_type": "code",
      "source": [
        "!pip install newsapi-python"
      ],
      "metadata": {
        "colab": {
          "base_uri": "https://localhost:8080/"
        },
        "id": "endxSm4YwY9Y",
        "outputId": "443de29b-4566-437e-bb16-84f5e5168c38"
      },
      "execution_count": 20,
      "outputs": [
        {
          "output_type": "stream",
          "name": "stdout",
          "text": [
            "Collecting newsapi-python\n",
            "  Downloading newsapi_python-0.2.7-py2.py3-none-any.whl (7.9 kB)\n",
            "Requirement already satisfied: requests<3.0.0 in /usr/local/lib/python3.10/dist-packages (from newsapi-python) (2.31.0)\n",
            "Requirement already satisfied: charset-normalizer<4,>=2 in /usr/local/lib/python3.10/dist-packages (from requests<3.0.0->newsapi-python) (3.2.0)\n",
            "Requirement already satisfied: idna<4,>=2.5 in /usr/local/lib/python3.10/dist-packages (from requests<3.0.0->newsapi-python) (3.4)\n",
            "Requirement already satisfied: urllib3<3,>=1.21.1 in /usr/local/lib/python3.10/dist-packages (from requests<3.0.0->newsapi-python) (2.0.4)\n",
            "Requirement already satisfied: certifi>=2017.4.17 in /usr/local/lib/python3.10/dist-packages (from requests<3.0.0->newsapi-python) (2023.7.22)\n",
            "Installing collected packages: newsapi-python\n",
            "Successfully installed newsapi-python-0.2.7\n"
          ]
        }
      ]
    },
    {
      "cell_type": "code",
      "source": [
        "from newsapi.newsapi_client import NewsApiClient"
      ],
      "metadata": {
        "id": "ndw50QA-w-kC"
      },
      "execution_count": 21,
      "outputs": []
    },
    {
      "cell_type": "code",
      "source": [
        "# use your API key here\n",
        "newsapi = NewsApiClient(api_key='3a50489ee52b4bb8a3729ce2ec9dedf3')"
      ],
      "metadata": {
        "id": "BU633m2qw_wI"
      },
      "execution_count": 22,
      "outputs": []
    },
    {
      "cell_type": "code",
      "source": [
        "fin_buzz_articles = newsapi.get_everything(q='trading, business and finance', language='en', page_size=100, exclude_domains='https://removed.com')\n",
        "crypto = newsapi.get_everything(q='cryptocurrency', language='en', page_size=100, exclude_domains='https://removed.com')\n",
        "stock_market = newsapi.get_everything(q='indian stock market', language='en', page_size=100, exclude_domains='https://removed.com')\n",
        "# politics = newsapi.get_everything(q='indian politics', language='en', page_size=100, exclude_domains='https://removed.com')\n",
        "# geopolitics = newsapi.get_everything(q='geopolitics', language='en', page_size=100, exclude_domains='https://removed.com')\n",
        "# fashion = newsapi.get_everything(q='fashion in india', language='en', page_size=100, exclude_domains='https://removed.com')\n",
        "# food = newsapi.get_everything(q='food', language='en', page_size=100, exclude_domains='https://removed.com')\n",
        "# entertainment = newsapi.get_everything(q='entertainment', language='en', page_size=100, exclude_domains='https://removed.com')\n",
        "# science = newsapi.get_everything(q='science', language='en', page_size=100, exclude_domains='https://removed.com')\n",
        "# sports = newsapi.get_everything(q='sports', language='en', page_size=100, exclude_domains='https://removed.com')\n",
        "# health = newsapi.get_everything(q='health and medicine', language='en', page_size=100, exclude_domains='https://removed.com')\n",
        "# cinema = newsapi.get_everything(q='indian cinema', language='en', page_size=100, exclude_domains='https://removed.com')\n",
        "# technology = newsapi.get_everything(q='technology, software technology', language='en', page_size=100, exclude_domains='https://removed.com')\n",
        "# travel = newsapi.get_everything(q='travel', language='en', page_size=100, exclude_domains='https://removed.com')"
      ],
      "metadata": {
        "id": "HfXgPCVTx37t"
      },
      "execution_count": 23,
      "outputs": []
    },
    {
      "cell_type": "code",
      "source": [
        "# technology = pd.DataFrame(technology['articles'])\n",
        "# technology['category'] = 'Science and Technology'\n",
        "\n",
        "# science = pd.DataFrame(science['articles'])\n",
        "# science['category'] = 'Science and Technology'\n",
        "\n",
        "# entertainment = pd.DataFrame(entertainment['articles'])\n",
        "# entertainment['category'] = 'Entertainment'\n",
        "\n",
        "# cinema = pd.DataFrame(cinema['articles'])\n",
        "# cinema['category'] = 'Entertainment'\n",
        "\n",
        "# fashion = pd.DataFrame(fashion['articles'])\n",
        "# fashion['category'] = 'Entertainment'\n",
        "\n",
        "fin_buzz = pd.DataFrame(fin_buzz_articles['articles'])\n",
        "fin_buzz['category'] = 'FINANCE'\n",
        "\n",
        "stocks = pd.DataFrame(stock_market['articles'])\n",
        "stocks['category'] = 'FINANCE'\n",
        "\n",
        "crypto = pd.DataFrame(crypto['articles'])\n",
        "crypto['category'] = 'FINANCE'\n",
        "\n",
        "# sports = pd.DataFrame(sports['articles'])\n",
        "# sports['category'] = 'Sports'\n",
        "\n",
        "# politics = pd.DataFrame(politics['articles'])\n",
        "# politics['category'] = 'Politics'\n",
        "\n",
        "# geopolitics = pd.DataFrame(geopolitics['articles'])\n",
        "# geopolitics['category'] = 'Politics'\n",
        "\n",
        "# travel = pd.DataFrame(travel['articles'])\n",
        "# travel['category'] = 'Travel'\n",
        "\n",
        "# food = pd.DataFrame(food['articles'])\n",
        "# food['category'] = 'Food'\n",
        "\n",
        "# health = pd.DataFrame(health['articles'])\n",
        "# health['category'] = 'Health'\n",
        "\n"
      ],
      "metadata": {
        "id": "hrWqDDlx4LEk"
      },
      "execution_count": 24,
      "outputs": []
    },
    {
      "cell_type": "code",
      "source": [
        "categories = [fin_buzz, stocks, crypto]\n",
        "df = pd.concat(categories)"
      ],
      "metadata": {
        "id": "JSCd17Nb71yy"
      },
      "execution_count": 25,
      "outputs": []
    },
    {
      "cell_type": "code",
      "source": [
        "# shuffle the DataFrame rows\n",
        "df = df.sample(frac = 1)"
      ],
      "metadata": {
        "id": "2k1ledis9PyP"
      },
      "execution_count": 26,
      "outputs": []
    },
    {
      "cell_type": "code",
      "source": [
        "# drop all rows that contain 'Coca Cola'\n",
        "df = df.drop(df[df['title'] == '[Removed]'].index)"
      ],
      "metadata": {
        "id": "wTKBhYxn90b4"
      },
      "execution_count": 27,
      "outputs": []
    },
    {
      "cell_type": "code",
      "source": [
        "df.shape"
      ],
      "metadata": {
        "colab": {
          "base_uri": "https://localhost:8080/"
        },
        "id": "XmqgiPb4Hn_C",
        "outputId": "3d73214a-94c7-4043-dd6c-c9681f9d386b"
      },
      "execution_count": null,
      "outputs": [
        {
          "output_type": "execute_result",
          "data": {
            "text/plain": [
              "(294, 9)"
            ]
          },
          "metadata": {},
          "execution_count": 22
        }
      ]
    },
    {
      "cell_type": "code",
      "source": [
        "import numpy as np\n",
        "df.index = np.arange(0, len(df))"
      ],
      "metadata": {
        "id": "F2R5rV88_Y4v"
      },
      "execution_count": 28,
      "outputs": []
    },
    {
      "cell_type": "code",
      "source": [
        "df.rename(columns = {'title':'headline'}, inplace = True)"
      ],
      "metadata": {
        "id": "BBFwyGADNItK"
      },
      "execution_count": 29,
      "outputs": []
    },
    {
      "cell_type": "code",
      "source": [
        "new_df.shape"
      ],
      "metadata": {
        "colab": {
          "base_uri": "https://localhost:8080/"
        },
        "id": "yM23AYfANpKo",
        "outputId": "a60b6877-11c8-452f-e271-e15d28d2f16f"
      },
      "execution_count": null,
      "outputs": [
        {
          "output_type": "execute_result",
          "data": {
            "text/plain": [
              "(187150, 6)"
            ]
          },
          "metadata": {},
          "execution_count": 29
        }
      ]
    },
    {
      "cell_type": "code",
      "source": [
        "df = df.drop('content', axis=1)\n",
        "df = df.drop('url', axis=1)\n",
        "df = df.drop('urlToImage', axis=1)\n",
        "df = df.drop('publishedAt', axis=1)\n",
        "df = df.drop('source', axis=1)"
      ],
      "metadata": {
        "id": "B47GLhwfGvGk"
      },
      "execution_count": 30,
      "outputs": []
    },
    {
      "cell_type": "markdown",
      "source": [
        "Now we have 2 datasets, 'df' and 'new_df'\n",
        "\n",
        "> We will take the headlines and category column from both the datasets and concatenate them"
      ],
      "metadata": {
        "id": "IsYFQnCkL29q"
      }
    },
    {
      "cell_type": "code",
      "source": [
        "text = new_df['headline'].values\n",
        "labels = new_df['category'].values"
      ],
      "metadata": {
        "id": "1cX-JID9R_x8"
      },
      "execution_count": 31,
      "outputs": []
    },
    {
      "cell_type": "code",
      "source": [],
      "metadata": {
        "id": "Lb41yCXvYn_2"
      },
      "execution_count": null,
      "outputs": []
    },
    {
      "cell_type": "code",
      "source": [
        "text = np.append(text, df['headline'].values, axis=0)"
      ],
      "metadata": {
        "id": "u2dgKITdSFYm"
      },
      "execution_count": 32,
      "outputs": []
    },
    {
      "cell_type": "code",
      "source": [
        "len(text)"
      ],
      "metadata": {
        "colab": {
          "base_uri": "https://localhost:8080/"
        },
        "id": "9gZODrLzS7uz",
        "outputId": "4cc5cf87-830a-4c9a-aa00-240ecbab8009"
      },
      "execution_count": 34,
      "outputs": [
        {
          "output_type": "execute_result",
          "data": {
            "text/plain": [
              "187444"
            ]
          },
          "metadata": {},
          "execution_count": 34
        }
      ]
    },
    {
      "cell_type": "code",
      "source": [
        "labels = np.append(labels, df['category'].values, axis=0)"
      ],
      "metadata": {
        "id": "DlH5KY-lTHHu"
      },
      "execution_count": 33,
      "outputs": []
    },
    {
      "cell_type": "code",
      "source": [
        "len(set(labels))"
      ],
      "metadata": {
        "colab": {
          "base_uri": "https://localhost:8080/"
        },
        "id": "_P-cw9CgTP1V",
        "outputId": "4b0a46dd-b69a-4658-d460-53c4d8fb35d3"
      },
      "execution_count": 35,
      "outputs": [
        {
          "output_type": "execute_result",
          "data": {
            "text/plain": [
              "15"
            ]
          },
          "metadata": {},
          "execution_count": 35
        }
      ]
    },
    {
      "cell_type": "code",
      "source": [
        "final_df = pd.DataFrame(text, columns=['headline'])"
      ],
      "metadata": {
        "id": "jJju6CK9Y4ZP"
      },
      "execution_count": 36,
      "outputs": []
    },
    {
      "cell_type": "code",
      "source": [
        "final_df['labels'] = labels"
      ],
      "metadata": {
        "id": "6bRt3NGzY9xN"
      },
      "execution_count": 37,
      "outputs": []
    },
    {
      "cell_type": "code",
      "source": [
        "#mapping dict for labels\n",
        "label_dict = {}\n",
        "index=0\n",
        "for l in set(labels):\n",
        "    label_dict[l] = index\n",
        "    index += 1"
      ],
      "metadata": {
        "id": "FWEc9TlwThOL"
      },
      "execution_count": 38,
      "outputs": []
    },
    {
      "cell_type": "code",
      "source": [
        "label_dict"
      ],
      "metadata": {
        "id": "73TmCvnuUHfy",
        "colab": {
          "base_uri": "https://localhost:8080/"
        },
        "outputId": "e8e0ef98-7808-4abe-ad58-4d7a2835aced"
      },
      "execution_count": null,
      "outputs": [
        {
          "output_type": "execute_result",
          "data": {
            "text/plain": [
              "{'HEALTH & MEDICINE': 0,\n",
              " 'ENTERTAINMENT': 1,\n",
              " 'FINANCE': 2,\n",
              " 'SCIENCE & TECHNOLOGY': 3,\n",
              " 'WORLD NEWS': 4,\n",
              " 'EDUCATION': 5,\n",
              " 'SOCIETY': 6,\n",
              " 'POLITICS': 7,\n",
              " 'ENVIRONMENT': 8,\n",
              " 'BUSINESS': 9,\n",
              " 'MEDIA': 10,\n",
              " 'FOOD': 11,\n",
              " 'CRIME': 12,\n",
              " 'LIFESTYLE': 13,\n",
              " 'SPORTS': 14}"
            ]
          },
          "metadata": {},
          "execution_count": 31
        }
      ]
    },
    {
      "cell_type": "code",
      "source": [
        "# shuffle the DataFrame rows\n",
        "final_df = final_df.sample(frac = 1)"
      ],
      "metadata": {
        "id": "fEJRNpCVLrOy"
      },
      "execution_count": 39,
      "outputs": []
    },
    {
      "cell_type": "code",
      "source": [
        "final_df['labels'] = final_df['labels'].map(label_dict)"
      ],
      "metadata": {
        "id": "aXvDhYIGZbZt"
      },
      "execution_count": 40,
      "outputs": []
    },
    {
      "cell_type": "code",
      "source": [
        "final_df.shape"
      ],
      "metadata": {
        "colab": {
          "base_uri": "https://localhost:8080/"
        },
        "id": "nNS5fHHpZwcs",
        "outputId": "2d7bb8ef-6a71-465c-b5bb-19604731954d"
      },
      "execution_count": null,
      "outputs": [
        {
          "output_type": "execute_result",
          "data": {
            "text/plain": [
              "(187444, 2)"
            ]
          },
          "metadata": {},
          "execution_count": 40
        }
      ]
    },
    {
      "cell_type": "code",
      "source": [
        "# We have the required data now."
      ],
      "metadata": {
        "id": "E4D3qKgDN3Jo"
      },
      "execution_count": null,
      "outputs": []
    },
    {
      "cell_type": "code",
      "source": [
        "data_texts = final_df[\"headline\"].to_list() # Features (not-tokenized yet)\n",
        "data_labels = final_df[\"labels\"].to_list() # Lables"
      ],
      "metadata": {
        "id": "GbwSjOqSlsac"
      },
      "execution_count": 41,
      "outputs": []
    },
    {
      "cell_type": "markdown",
      "source": [
        "### Splitting the DATASET into TRAINING and TEST data"
      ],
      "metadata": {
        "id": "sjg7Q3s6k2z8"
      }
    },
    {
      "cell_type": "code",
      "source": [
        "from sklearn.model_selection import train_test_split"
      ],
      "metadata": {
        "id": "Ms5rG_KriEfN"
      },
      "execution_count": 42,
      "outputs": []
    },
    {
      "cell_type": "code",
      "source": [
        "def get_train_vali_test(X, y, ratio_train = 0.8, ratio_val = 0.1, ratio_test = 0.1):\n",
        "    X_train, X_test, y_train, y_test = train_test_split(X, y, test_size=ratio_test, random_state=42, shuffle=True)\n",
        "    ratio_remaining = 1 - ratio_test\n",
        "    ratio_val_adjusted = ratio_val / ratio_remaining\n",
        "    X_train, X_val, y_train, y_val = train_test_split(X_train, y_train, test_size=ratio_val_adjusted, random_state=42, shuffle=True)\n",
        "    return X_train, X_test, X_val, y_train, y_test, y_val"
      ],
      "metadata": {
        "id": "eNBdqNULiEWN"
      },
      "execution_count": 43,
      "outputs": []
    },
    {
      "cell_type": "code",
      "source": [
        "train_texts, test_texts, val_texts, train_labels, test_labels, val_labels = get_train_vali_test(data_texts, data_labels)"
      ],
      "metadata": {
        "id": "Nme403e7iELN"
      },
      "execution_count": 44,
      "outputs": []
    },
    {
      "cell_type": "markdown",
      "source": [
        "\n",
        "\n",
        "```\n",
        "# DATASET has be split into TRAINING, VALIDATION and TESTING DATA\n",
        "```\n",
        "\n"
      ],
      "metadata": {
        "id": "-SY1UdatlG7D"
      }
    },
    {
      "cell_type": "code",
      "source": [
        "# Installing Transformers with sentencepiece\n",
        "!pip install --no-cache-dir transformers sentencepiece"
      ],
      "metadata": {
        "id": "31b8YSdCCaqd",
        "colab": {
          "base_uri": "https://localhost:8080/"
        },
        "outputId": "e5abf457-09d7-4cec-d9b0-e207ca95b210"
      },
      "execution_count": 45,
      "outputs": [
        {
          "output_type": "stream",
          "name": "stdout",
          "text": [
            "Installing collected packages: tokenizers, safetensors, huggingface-hub, transformers\n",
            "Successfully installed huggingface-hub-0.16.4 safetensors-0.3.3 tokenizers-0.13.3 transformers-4.33.1\n"
          ]
        }
      ]
    },
    {
      "cell_type": "code",
      "source": [
        "from transformers import DistilBertTokenizer\n",
        "tokenizer = DistilBertTokenizer.from_pretrained('distilbert-base-uncased')\n",
        "train_encodings = tokenizer(train_texts, truncation=True, padding=True)\n",
        "val_encodings = tokenizer(val_texts, truncation=True, padding=True)\n",
        "test_encodings = tokenizer(test_texts, truncation=True, padding=True)"
      ],
      "metadata": {
        "id": "ZGWuLlTHkoYp",
        "colab": {
          "base_uri": "https://localhost:8080/",
          "height": 113,
          "referenced_widgets": [
            "b21fa59a527e488f81d1a54694069a89",
            "ddd532acc2d843a4a0926bf738692954",
            "b0895f70f4af45dcb52b810fb4e8eb79",
            "ac43e482dfe343f893d008852308447a",
            "96df99bdbdc2473db73a8179b05d92b1",
            "19167a62bea6411582eb508d111b4d51",
            "5a26f7f26bfb4c12912ad05b0c5bf378",
            "70cd9327b3d443bcb3605982da3621ed",
            "5a87ca5734de49c498baa82eee1012c3",
            "953565e2dff44cc49d02a9a0d20c6fb9",
            "7b7a0d22637a458d9c5c38e955fa7455",
            "ee66c85fee624c809dd42ee60599b23f",
            "ecba3f7ad7b4488ea7d0d64b1c35a21f",
            "44d3021fc8264c698d3fe2483f150878",
            "1deb63bab7474ef791ba474bfa3521d3",
            "62fed9c0e2ec45b6b090b982c5ca7fe5",
            "58b651b290f0405d879a1d020d7aebf2",
            "9cbb1df810984e3e8ff578024b4b4e3b",
            "b76e88ca8a864fbf9e6e3bd53d4c5582",
            "e93478d33283471b8f09f957a4f45d0f",
            "6a42beb6567e460db14726a023fa3da2",
            "fad807ed2c7148c7a80fdb4f975a996b",
            "89f92f2585f54b5e84b7815cf45f3165",
            "1c5048d4525e40ceb416415d50e292ef",
            "9dc3ba8fc34a49df971186f88daed701",
            "c17f9fc3d78e4f31859cf6528ead67c7",
            "3f81b68ca03141c7b52736b7d9c15f70",
            "c59e743b1403496f96d741ce4e1cce93",
            "74030762d1c8460987a367fd58b73fe4",
            "d2557675824e49ba80754f1b214989b8",
            "1754633ecf48497eb7f9f31651a392ae",
            "c9dce9cf43ff41c884f944f2373c4e90",
            "a7eb35ecb1904bef87150f246fbd450e"
          ]
        },
        "outputId": "a9ab2234-9f39-4e44-e19f-a1c556971959"
      },
      "execution_count": 46,
      "outputs": [
        {
          "output_type": "display_data",
          "data": {
            "text/plain": [
              "Downloading (…)solve/main/vocab.txt:   0%|          | 0.00/232k [00:00<?, ?B/s]"
            ],
            "application/vnd.jupyter.widget-view+json": {
              "version_major": 2,
              "version_minor": 0,
              "model_id": "b21fa59a527e488f81d1a54694069a89"
            }
          },
          "metadata": {}
        },
        {
          "output_type": "display_data",
          "data": {
            "text/plain": [
              "Downloading (…)okenizer_config.json:   0%|          | 0.00/28.0 [00:00<?, ?B/s]"
            ],
            "application/vnd.jupyter.widget-view+json": {
              "version_major": 2,
              "version_minor": 0,
              "model_id": "ee66c85fee624c809dd42ee60599b23f"
            }
          },
          "metadata": {}
        },
        {
          "output_type": "display_data",
          "data": {
            "text/plain": [
              "Downloading (…)lve/main/config.json:   0%|          | 0.00/483 [00:00<?, ?B/s]"
            ],
            "application/vnd.jupyter.widget-view+json": {
              "version_major": 2,
              "version_minor": 0,
              "model_id": "89f92f2585f54b5e84b7815cf45f3165"
            }
          },
          "metadata": {}
        }
      ]
    },
    {
      "cell_type": "code",
      "source": [
        "!pip install tf-models-official"
      ],
      "metadata": {
        "id": "GOQ6t-8XmOhF"
      },
      "execution_count": null,
      "outputs": []
    },
    {
      "cell_type": "code",
      "source": [
        "import tensorflow as tf\n",
        "import tensorflow_models as tfm\n",
        "import tensorflow_hub as hub\n",
        "import tensorflow_datasets as tfds"
      ],
      "metadata": {
        "id": "NriyqxgymGNW"
      },
      "execution_count": 48,
      "outputs": []
    },
    {
      "cell_type": "code",
      "source": [
        "train_dataset = tf.data.Dataset.from_tensor_slices((\n",
        "    dict(train_encodings),\n",
        "    train_labels\n",
        "))\n",
        "val_dataset = tf.data.Dataset.from_tensor_slices((\n",
        "    dict(val_encodings),\n",
        "    val_labels\n",
        "))\n",
        "test_dataset = tf.data.Dataset.from_tensor_slices((\n",
        "    dict(test_encodings),\n",
        "    test_labels\n",
        "))"
      ],
      "metadata": {
        "id": "tU-ogb_GmNmj"
      },
      "execution_count": 49,
      "outputs": []
    },
    {
      "cell_type": "markdown",
      "source": [
        "## Logit Model"
      ],
      "metadata": {
        "id": "K_d6BOrJZ-_9"
      }
    },
    {
      "cell_type": "code",
      "source": [
        "from sklearn.feature_extraction.text import TfidfVectorizer\n",
        "from nltk import word_tokenize\n",
        "from sklearn.linear_model import LogisticRegression"
      ],
      "metadata": {
        "id": "TUX0XzbttU56"
      },
      "execution_count": 50,
      "outputs": []
    },
    {
      "cell_type": "code",
      "source": [
        "tfidf = TfidfVectorizer(strip_accents=None,\n",
        "                        lowercase=True,\n",
        "                        preprocessor=None,  # applied preprocessor in Data Cleaning\n",
        "                        tokenizer=word_tokenize,\n",
        "                        use_idf=True,\n",
        "                        norm='l2',\n",
        "                        smooth_idf=True,\n",
        "                        stop_words= 'english',\n",
        "                        max_df=0.5,\n",
        "                        sublinear_tf=True)"
      ],
      "metadata": {
        "id": "UHKdJLUltViq"
      },
      "execution_count": 51,
      "outputs": []
    },
    {
      "cell_type": "code",
      "source": [
        "import nltk\n",
        "nltk.download('punkt')"
      ],
      "metadata": {
        "colab": {
          "base_uri": "https://localhost:8080/"
        },
        "id": "NXnafZn4tuNj",
        "outputId": "64dfb670-2afc-46e7-fb01-1d8661e4ae61"
      },
      "execution_count": 52,
      "outputs": [
        {
          "output_type": "stream",
          "name": "stderr",
          "text": [
            "[nltk_data] Downloading package punkt to /root/nltk_data...\n",
            "[nltk_data]   Unzipping tokenizers/punkt.zip.\n"
          ]
        },
        {
          "output_type": "execute_result",
          "data": {
            "text/plain": [
              "True"
            ]
          },
          "metadata": {},
          "execution_count": 52
        }
      ]
    },
    {
      "cell_type": "code",
      "source": [
        "X =  tfidf.fit_transform(train_texts)"
      ],
      "metadata": {
        "colab": {
          "base_uri": "https://localhost:8080/"
        },
        "id": "a8wu3OlWtaHK",
        "outputId": "1d795d4c-812d-4a9f-cd21-05e07ca448e1"
      },
      "execution_count": 53,
      "outputs": [
        {
          "output_type": "stream",
          "name": "stderr",
          "text": [
            "/usr/local/lib/python3.10/dist-packages/sklearn/feature_extraction/text.py:528: UserWarning: The parameter 'token_pattern' will not be used since 'tokenizer' is not None'\n",
            "  warnings.warn(\n"
          ]
        }
      ]
    },
    {
      "cell_type": "code",
      "source": [
        "clf = LogisticRegression(max_iter=100000000, C=5).fit(X, train_labels)"
      ],
      "metadata": {
        "id": "O6ZUK10MtdRi"
      },
      "execution_count": 54,
      "outputs": []
    },
    {
      "cell_type": "code",
      "source": [
        "X_val = tfidf.transform(val_texts)\n",
        "X_test = tfidf.transform(test_texts)"
      ],
      "metadata": {
        "id": "drlFwhy4t8rx"
      },
      "execution_count": 55,
      "outputs": []
    },
    {
      "cell_type": "code",
      "source": [
        "from transformers import TFDistilBertForSequenceClassification\n",
        "from sklearn.metrics import f1_score\n",
        "from tqdm import tqdm\n",
        "import pickle\n",
        "from transformers import BertTokenizer, BertForSequenceClassification\n",
        "from tabulate import tabulate\n",
        "from sklearn.model_selection import train_test_split\n",
        "from torch.utils.data import TensorDataset, DataLoader, RandomSampler, SequentialSampler\n",
        "import torch\n",
        "from tqdm import trange"
      ],
      "metadata": {
        "id": "BXicyjbzquJh"
      },
      "execution_count": 56,
      "outputs": []
    },
    {
      "cell_type": "code",
      "source": [
        "f1_score(val_labels, clf.predict(X_val), average='micro')"
      ],
      "metadata": {
        "colab": {
          "base_uri": "https://localhost:8080/"
        },
        "id": "_N5aV_KquWQB",
        "outputId": "04daa00f-2961-4d96-bf99-bfc642c6ac38"
      },
      "execution_count": 57,
      "outputs": [
        {
          "output_type": "execute_result",
          "data": {
            "text/plain": [
              "0.6835956255001334"
            ]
          },
          "metadata": {},
          "execution_count": 57
        }
      ]
    },
    {
      "cell_type": "code",
      "source": [
        "f1_score(test_labels, clf.predict(X_test), average='micro')"
      ],
      "metadata": {
        "colab": {
          "base_uri": "https://localhost:8080/"
        },
        "id": "ssqXfjuZuZWK",
        "outputId": "921bdbec-6297-439c-f6b1-1cc3102dc295"
      },
      "execution_count": 58,
      "outputs": [
        {
          "output_type": "execute_result",
          "data": {
            "text/plain": [
              "0.6885036009602561"
            ]
          },
          "metadata": {},
          "execution_count": 58
        }
      ]
    },
    {
      "cell_type": "markdown",
      "source": [
        "### Load Pretrained Model (distilbert)"
      ],
      "metadata": {
        "id": "TTermglVvH4o"
      }
    },
    {
      "cell_type": "code",
      "source": [
        "model = TFDistilBertForSequenceClassification.from_pretrained('distilbert-base-uncased', num_labels=42)\n",
        "\n",
        "optimizer = tf.keras.optimizers.Adam(learning_rate=5e-5)\n",
        "model.compile(optimizer=optimizer, loss=model.hf_compute_loss, metrics=['accuracy'])"
      ],
      "metadata": {
        "id": "2TblBoFzvPYJ",
        "colab": {
          "base_uri": "https://localhost:8080/",
          "height": 156,
          "referenced_widgets": [
            "95e87790b06340ef8965f775d44cbcac",
            "946698b9df5f45ccadc75e002bfcd7a8",
            "88a35c4e2049446891209f6c6a2572e2",
            "4eccee2d8daf40d18a4d0d929df9c817",
            "224cfd26d0d842188faa81eb828909ce",
            "f2ab2e5739f848f99d692a42d1b17643",
            "bef56bbb87ce43198b86bce92d6e05f8",
            "01ecc4f1f6b74fdfad3886a0a572e85d",
            "7a623815086c492f818018dde616b778",
            "c805b6be6fde4f8ab61142f0de545cb4",
            "bdb5a91ead1447848444ecff191e233b"
          ]
        },
        "outputId": "6f53663a-173f-40ed-b40f-a47650a706fd"
      },
      "execution_count": 59,
      "outputs": [
        {
          "output_type": "display_data",
          "data": {
            "text/plain": [
              "Downloading model.safetensors:   0%|          | 0.00/268M [00:00<?, ?B/s]"
            ],
            "application/vnd.jupyter.widget-view+json": {
              "version_major": 2,
              "version_minor": 0,
              "model_id": "95e87790b06340ef8965f775d44cbcac"
            }
          },
          "metadata": {}
        },
        {
          "output_type": "stream",
          "name": "stderr",
          "text": [
            "Some weights of the PyTorch model were not used when initializing the TF 2.0 model TFDistilBertForSequenceClassification: ['vocab_transform.bias', 'vocab_layer_norm.weight', 'vocab_transform.weight', 'vocab_layer_norm.bias', 'vocab_projector.bias']\n",
            "- This IS expected if you are initializing TFDistilBertForSequenceClassification from a PyTorch model trained on another task or with another architecture (e.g. initializing a TFBertForSequenceClassification model from a BertForPreTraining model).\n",
            "- This IS NOT expected if you are initializing TFDistilBertForSequenceClassification from a PyTorch model that you expect to be exactly identical (e.g. initializing a TFBertForSequenceClassification model from a BertForSequenceClassification model).\n",
            "Some weights or buffers of the TF 2.0 model TFDistilBertForSequenceClassification were not initialized from the PyTorch model and are newly initialized: ['pre_classifier.weight', 'pre_classifier.bias', 'classifier.weight', 'classifier.bias']\n",
            "You should probably TRAIN this model on a down-stream task to be able to use it for predictions and inference.\n"
          ]
        }
      ]
    },
    {
      "cell_type": "markdown",
      "source": [
        "### MODEL Training"
      ],
      "metadata": {
        "id": "q9ftCYKSvUUh"
      }
    },
    {
      "cell_type": "code",
      "source": [
        "# first training\n",
        "history = model.fit(train_dataset.shuffle(100).batch(100), epochs=7, batch_size=100,\n",
        "          validation_data=val_dataset.shuffle(100).batch(100))"
      ],
      "metadata": {
        "id": "r5Mq2fjwvTko"
      },
      "execution_count": null,
      "outputs": []
    },
    {
      "cell_type": "code",
      "source": [
        "#second training\n",
        "history_second = model.fit(train_dataset.shuffle(110).batch(90), epochs=2, batch_size=90,\n",
        "          validation_data=val_dataset.shuffle(121).batch(90))"
      ],
      "metadata": {
        "id": "yuRGPuVwveux",
        "colab": {
          "base_uri": "https://localhost:8080/"
        },
        "outputId": "d7ad0580-b45e-4b7c-8fab-5b35a026cce5"
      },
      "execution_count": 62,
      "outputs": [
        {
          "output_type": "stream",
          "name": "stdout",
          "text": [
            "Epoch 1/2\n",
            "1667/1667 [==============================] - 1734s 1s/step - loss: 0.1022 - accuracy: 0.9666 - val_loss: 1.4192 - val_accuracy: 0.7276\n",
            "Epoch 2/2\n",
            "1667/1667 [==============================] - 1734s 1s/step - loss: 0.0865 - accuracy: 0.9712 - val_loss: 1.5070 - val_accuracy: 0.7252\n"
          ]
        }
      ]
    },
    {
      "cell_type": "code",
      "source": [
        "his_dict = history.history\n",
        "history_second_dict = history_second.history"
      ],
      "metadata": {
        "id": "26HMxceBRd9E"
      },
      "execution_count": 90,
      "outputs": []
    },
    {
      "cell_type": "markdown",
      "source": [
        "## Saving model and History"
      ],
      "metadata": {
        "id": "fHVJX8U6wEOP"
      }
    },
    {
      "cell_type": "code",
      "source": [
        "!huggingface-cli login"
      ],
      "metadata": {
        "colab": {
          "base_uri": "https://localhost:8080/"
        },
        "id": "Hv8r6htuIbYF",
        "outputId": "7e8b227e-a313-47c7-9f1e-60799809afee"
      },
      "execution_count": 65,
      "outputs": [
        {
          "output_type": "stream",
          "name": "stdout",
          "text": [
            "\n",
            "    _|    _|  _|    _|    _|_|_|    _|_|_|  _|_|_|  _|      _|    _|_|_|      _|_|_|_|    _|_|      _|_|_|  _|_|_|_|\n",
            "    _|    _|  _|    _|  _|        _|          _|    _|_|    _|  _|            _|        _|    _|  _|        _|\n",
            "    _|_|_|_|  _|    _|  _|  _|_|  _|  _|_|    _|    _|  _|  _|  _|  _|_|      _|_|_|    _|_|_|_|  _|        _|_|_|\n",
            "    _|    _|  _|    _|  _|    _|  _|    _|    _|    _|    _|_|  _|    _|      _|        _|    _|  _|        _|\n",
            "    _|    _|    _|_|      _|_|_|    _|_|_|  _|_|_|  _|      _|    _|_|_|      _|        _|    _|    _|_|_|  _|_|_|_|\n",
            "    \n",
            "    To login, `huggingface_hub` requires a token generated from https://huggingface.co/settings/tokens .\n",
            "Token: \n",
            "Add token as git credential? (Y/n) n\n",
            "Token is valid (permission: write).\n",
            "Your token has been saved to /root/.cache/huggingface/token\n",
            "Login successful\n"
          ]
        }
      ]
    },
    {
      "cell_type": "code",
      "source": [
        "model.push_to_hub(\"news_classification_model\")\n",
        "tokenizer.push_to_hub(\"news_classification_model\")"
      ],
      "metadata": {
        "colab": {
          "base_uri": "https://localhost:8080/",
          "height": 84,
          "referenced_widgets": [
            "da01800b64f0469d94c0837af4782a14",
            "1e06895de782496fb4bc2bec25d04e65",
            "8551668b20d6400987438429adb2e9a7",
            "64b2cd74efe4492c9e2201075b533b2e",
            "79266ef4bc8c4f5fa57b7d170d6edbe4",
            "d3d066a6e23f47dbaf174c6d14545926",
            "06780fb9b25f4ce09c578a8dda80ae2a",
            "bc223b0a427c47c386f966c707cb06d3",
            "432699914dc34ac0b7ae2ff9df9435ce",
            "350e4bf90709497f929c31835978d186",
            "2baa1baf023b4a909d1f209d465acc6e"
          ]
        },
        "id": "r7dwNEnRIqgm",
        "outputId": "d4324324-4646-4e2e-90a3-94be58b6e701"
      },
      "execution_count": 66,
      "outputs": [
        {
          "output_type": "display_data",
          "data": {
            "text/plain": [
              "tf_model.h5:   0%|          | 0.00/268M [00:00<?, ?B/s]"
            ],
            "application/vnd.jupyter.widget-view+json": {
              "version_major": 2,
              "version_minor": 0,
              "model_id": "da01800b64f0469d94c0837af4782a14"
            }
          },
          "metadata": {}
        },
        {
          "output_type": "execute_result",
          "data": {
            "text/plain": [
              "CommitInfo(commit_url='https://huggingface.co/darkdwine/news_classification_model/commit/d80f6668e8c3eb5e7d716b02afef0cef10567321', commit_message='Upload tokenizer', commit_description='', oid='d80f6668e8c3eb5e7d716b02afef0cef10567321', pr_url=None, pr_revision=None, pr_num=None)"
            ]
          },
          "metadata": {},
          "execution_count": 66
        }
      ]
    },
    {
      "cell_type": "code",
      "source": [
        "save_directory = \"news_classification_model\"\n",
        "model.save_pretrained(save_directory)\n",
        "tokenizer.save_pretrained(save_directory)"
      ],
      "metadata": {
        "id": "M5GJKLBNxXeG",
        "colab": {
          "base_uri": "https://localhost:8080/"
        },
        "outputId": "8f8f31c0-0a5c-4aba-8f50-2c7a42461f9d"
      },
      "execution_count": 67,
      "outputs": [
        {
          "output_type": "execute_result",
          "data": {
            "text/plain": [
              "('news_classification_model/tokenizer_config.json',\n",
              " 'news_classification_model/special_tokens_map.json',\n",
              " 'news_classification_model/vocab.txt',\n",
              " 'news_classification_model/added_tokens.json')"
            ]
          },
          "metadata": {},
          "execution_count": 67
        }
      ]
    },
    {
      "cell_type": "code",
      "source": [
        "load_directory = \"news_classification_model\"\n",
        "loaded_tokenizer = DistilBertTokenizer.from_pretrained(load_directory)\n",
        "loaded_model = TFDistilBertForSequenceClassification.from_pretrained(load_directory)"
      ],
      "metadata": {
        "id": "3AUo6_Gj2jD7",
        "colab": {
          "base_uri": "https://localhost:8080/"
        },
        "outputId": "203e786a-8b87-4f51-d261-f2475d436bca"
      },
      "execution_count": 68,
      "outputs": [
        {
          "output_type": "stream",
          "name": "stderr",
          "text": [
            "Some layers from the model checkpoint at news_classification_model were not used when initializing TFDistilBertForSequenceClassification: ['dropout_19']\n",
            "- This IS expected if you are initializing TFDistilBertForSequenceClassification from the checkpoint of a model trained on another task or with another architecture (e.g. initializing a BertForSequenceClassification model from a BertForPreTraining model).\n",
            "- This IS NOT expected if you are initializing TFDistilBertForSequenceClassification from the checkpoint of a model that you expect to be exactly identical (initializing a BertForSequenceClassification model from a BertForSequenceClassification model).\n",
            "Some layers of TFDistilBertForSequenceClassification were not initialized from the model checkpoint at news_classification_model and are newly initialized: ['dropout_39']\n",
            "You should probably TRAIN this model on a down-stream task to be able to use it for predictions and inference.\n"
          ]
        }
      ]
    },
    {
      "cell_type": "code",
      "source": [
        "import json"
      ],
      "metadata": {
        "id": "NaYWNjpoPVMo"
      },
      "execution_count": 69,
      "outputs": []
    },
    {
      "cell_type": "code",
      "source": [
        "with open(\"hist_1.json\", \"w\") as outfile:\n",
        "    json.dump(his_dict, outfile)"
      ],
      "metadata": {
        "id": "WYG2nmVvPXbz"
      },
      "execution_count": 85,
      "outputs": []
    },
    {
      "cell_type": "code",
      "source": [
        "with open(\"hist_2.json\", \"w\") as outfile:\n",
        "    json.dump(history_second_dict, outfile)"
      ],
      "metadata": {
        "id": "jhXcplT-PZcg"
      },
      "execution_count": 86,
      "outputs": []
    },
    {
      "cell_type": "code",
      "source": [
        "df_hisory_1 = pd.read_json('hist_1.json')\n",
        "df_hisory_2 = pd.read_json('hist_2.json')\n",
        "\n",
        "df_history = pd.concat([df_hisory_1, df_hisory_2]).reset_index(drop=True)"
      ],
      "metadata": {
        "id": "RzV3PzqePb83"
      },
      "execution_count": 91,
      "outputs": []
    },
    {
      "cell_type": "code",
      "source": [
        "df_history.columns"
      ],
      "metadata": {
        "colab": {
          "base_uri": "https://localhost:8080/"
        },
        "id": "8fhDka4OYog_",
        "outputId": "da534870-eeb0-4190-d9b5-e1e581cca92e"
      },
      "execution_count": 94,
      "outputs": [
        {
          "output_type": "execute_result",
          "data": {
            "text/plain": [
              "Index(['loss', 'accuracy', 'val_loss', 'val_accuracy', 'epoch'], dtype='object')"
            ]
          },
          "metadata": {},
          "execution_count": 94
        }
      ]
    },
    {
      "cell_type": "code",
      "source": [
        "df_history.plot(title='training history', y=['accuracy', 'val_accuracy'], xlabel='epoch', ylabel='accuracy')"
      ],
      "metadata": {
        "id": "T0ihhc9-xSfG"
      },
      "execution_count": 95,
      "outputs": []
    },
    {
      "cell_type": "code",
      "source": [
        "df_history.plot(title='training history', y=['loss', 'val_loss'], xlabel='epoch', ylabel='loss')"
      ],
      "metadata": {
        "id": "ARLuHiWyxTKh",
        "colab": {
          "base_uri": "https://localhost:8080/"
        },
        "outputId": "b1548141-4665-47f4-dbda-93acae4778bd"
      },
      "execution_count": 100,
      "outputs": [
        {
          "output_type": "execute_result",
          "data": {
            "text/plain": [
              "<Axes: title={'center': 'training history'}, xlabel='epoch', ylabel='loss'>"
            ]
          },
          "metadata": {},
          "execution_count": 100
        }
      ]
    },
    {
      "cell_type": "code",
      "source": [
        "def make_prediciton(input_text):\n",
        "    predict_input = loaded_tokenizer.encode(input_text,\n",
        "                                     truncation=True,\n",
        "                                     padding=True,\n",
        "                                     return_tensors=\"tf\")\n",
        "\n",
        "    output = loaded_model(predict_input)[0]\n",
        "\n",
        "    prediction_value = tf.argmax(output, axis=1).numpy()[0]\n",
        "    pred_label = [d for d in label_dict if label_dict[d] == prediction_value][0]\n",
        "    return pred_label"
      ],
      "metadata": {
        "id": "JtGmOr8jOVZ5"
      },
      "execution_count": 80,
      "outputs": []
    },
    {
      "cell_type": "code",
      "source": [
        "def ev_pred(input_text):\n",
        "    predict_input = loaded_tokenizer.encode(input_text,\n",
        "                                     truncation=True,\n",
        "                                     padding=True,\n",
        "                                     return_tensors=\"tf\")\n",
        "\n",
        "    output = loaded_model(predict_input)[0]\n",
        "\n",
        "    prediction_value = tf.argmax(output, axis=1).numpy()[0]\n",
        "    return prediction_value"
      ],
      "metadata": {
        "id": "CY8ekjneOsSx"
      },
      "execution_count": 81,
      "outputs": []
    },
    {
      "cell_type": "code",
      "source": [
        "make_prediciton('Look of the Week: Hunter Schafers ethereal Oscars after-party look')"
      ],
      "metadata": {
        "colab": {
          "base_uri": "https://localhost:8080/",
          "height": 36
        },
        "id": "9-1fegbcOwk3",
        "outputId": "521e4e90-2982-4ad5-ec21-688fb22c7f6e"
      },
      "execution_count": 82,
      "outputs": [
        {
          "output_type": "execute_result",
          "data": {
            "text/plain": [
              "'ENTERTAINMENT'"
            ],
            "application/vnd.google.colaboratory.intrinsic+json": {
              "type": "string"
            }
          },
          "metadata": {},
          "execution_count": 82
        }
      ]
    },
    {
      "cell_type": "code",
      "source": [
        "pred = [ev_pred(t) for t in tqdm(test_texts)]\n",
        "f1_score(test_labels, pred, average='micro')"
      ],
      "metadata": {
        "colab": {
          "base_uri": "https://localhost:8080/"
        },
        "id": "sJ341MDVO18_",
        "outputId": "34ea1887-aa7d-423c-8642-55956c82d1fe"
      },
      "execution_count": 83,
      "outputs": [
        {
          "output_type": "stream",
          "name": "stderr",
          "text": [
            "100%|██████████| 18745/18745 [39:32<00:00,  7.90it/s]\n"
          ]
        },
        {
          "output_type": "execute_result",
          "data": {
            "text/plain": [
              "0.731555081355028"
            ]
          },
          "metadata": {},
          "execution_count": 83
        }
      ]
    },
    {
      "cell_type": "markdown",
      "source": [
        "\n",
        "\n",
        "---\n",
        "\n"
      ],
      "metadata": {
        "id": "_qYYP5SLPk-f"
      }
    },
    {
      "cell_type": "markdown",
      "source": [
        "\n",
        "\n",
        "---\n",
        "\n",
        "\n",
        "\n",
        "---\n",
        "\n"
      ],
      "metadata": {
        "id": "2upAq8lXwI2r"
      }
    }
  ]
}