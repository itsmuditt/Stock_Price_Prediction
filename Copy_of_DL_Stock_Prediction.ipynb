{
  "nbformat": 4,
  "nbformat_minor": 0,
  "metadata": {
    "colab": {
      "provenance": [],
      "mount_file_id": "1Whit3TwnUOD6TmNmVEJrT7W4Lzezhso5",
      "authorship_tag": "ABX9TyPPEr2dmHvDOVDtQtHctQ5S",
      "include_colab_link": true
    },
    "kernelspec": {
      "name": "python3",
      "display_name": "Python 3"
    },
    "language_info": {
      "name": "python"
    }
  },
  "cells": [
    {
      "cell_type": "markdown",
      "metadata": {
        "id": "view-in-github",
        "colab_type": "text"
      },
      "source": [
        "<a href=\"https://colab.research.google.com/github/itsmuditt/Stock_Price_Prediction/blob/main/Copy_of_DL_Stock_Prediction.ipynb\" target=\"_parent\"><img src=\"https://colab.research.google.com/assets/colab-badge.svg\" alt=\"Open In Colab\"/></a>"
      ]
    },
    {
      "cell_type": "markdown",
      "source": [
        "##*`Imports and Data Call through 'yfinance' API`*"
      ],
      "metadata": {
        "id": "9mnq4bjCg8DC"
      }
    },
    {
      "cell_type": "code",
      "execution_count": null,
      "metadata": {
        "id": "MIalBHfLZf4w",
        "colab": {
          "base_uri": "https://localhost:8080/"
        },
        "outputId": "6e2cd1ea-aecc-4fda-da55-b54af09f0318"
      },
      "outputs": [
        {
          "output_type": "stream",
          "name": "stderr",
          "text": [
            "/usr/local/lib/python3.10/dist-packages/_distutils_hack/__init__.py:33: UserWarning: Setuptools is replacing distutils.\n",
            "  warnings.warn(\"Setuptools is replacing distutils.\")\n"
          ]
        }
      ],
      "source": [
        "import pandas as pd\n",
        "import numpy as np\n",
        "import matplotlib.pyplot as plt\n",
        "import pip\n",
        "import time\n",
        "import datetime\n",
        "import pickle"
      ]
    },
    {
      "cell_type": "code",
      "source": [
        "company = input(\"Enter the name of company you want Prediction of: \")\n",
        "begin = time.time()"
      ],
      "metadata": {
        "id": "QBd7tJW_a6xv",
        "colab": {
          "base_uri": "https://localhost:8080/"
        },
        "outputId": "5592a579-268a-4b91-cfec-41abea90644e"
      },
      "execution_count": null,
      "outputs": [
        {
          "name": "stdout",
          "output_type": "stream",
          "text": [
            "Enter the name of company you want Prediction of: INFY.NS\n"
          ]
        }
      ]
    },
    {
      "cell_type": "code",
      "source": [
        "# These dates are not accurate\n",
        "end_date = datetime.datetime(2023, 2, 18)\n",
        "start_date = datetime.datetime(2013, 1, 1)"
      ],
      "metadata": {
        "id": "8Uh-bopHL4bz"
      },
      "execution_count": null,
      "outputs": []
    },
    {
      "cell_type": "code",
      "source": [
        "import yfinance as yf\n",
        "data = yf.download(f'{company}', start_date, end_date)"
      ],
      "metadata": {
        "id": "gPpZY6ejbKG9",
        "colab": {
          "base_uri": "https://localhost:8080/"
        },
        "outputId": "4e1acbf2-e01b-421a-caa6-2e9edf837e81"
      },
      "execution_count": null,
      "outputs": [
        {
          "output_type": "stream",
          "name": "stdout",
          "text": [
            "\r[*********************100%%**********************]  1 of 1 completed\n"
          ]
        }
      ]
    },
    {
      "cell_type": "code",
      "source": [
        "data.to_csv(f'{company}.csv')"
      ],
      "metadata": {
        "id": "Ycfs2LzWMVVm"
      },
      "execution_count": null,
      "outputs": []
    },
    {
      "cell_type": "markdown",
      "source": [
        "\n",
        "\n",
        "---\n",
        "\n"
      ],
      "metadata": {
        "id": "hrDTzl3ghRR3"
      }
    },
    {
      "cell_type": "markdown",
      "source": [
        "##*`Data Preprocessing`*"
      ],
      "metadata": {
        "id": "0jdIjQakhXJX"
      }
    },
    {
      "cell_type": "code",
      "source": [
        "prices_df = pd.read_csv(f'{company}.csv', parse_dates=True)"
      ],
      "metadata": {
        "id": "KXdpkfXVfzTq"
      },
      "execution_count": null,
      "outputs": []
    },
    {
      "cell_type": "code",
      "source": [
        "prices_df.head(1)"
      ],
      "metadata": {
        "colab": {
          "base_uri": "https://localhost:8080/",
          "height": 81
        },
        "id": "gyRGBz5naERK",
        "outputId": "9375ea12-5259-4451-bd77-c2138ff2ae2f"
      },
      "execution_count": null,
      "outputs": [
        {
          "output_type": "execute_result",
          "data": {
            "text/plain": [
              "         Date        Open        High         Low       Close   Adj Close  \\\n",
              "0  2013-01-01  290.950012  291.237488  288.193756  288.606262  220.877151   \n",
              "\n",
              "    Volume  \n",
              "0  2959992  "
            ],
            "text/html": [
              "\n",
              "  <div id=\"df-26037a02-934f-46c6-8c61-04cff142b623\" class=\"colab-df-container\">\n",
              "    <div>\n",
              "<style scoped>\n",
              "    .dataframe tbody tr th:only-of-type {\n",
              "        vertical-align: middle;\n",
              "    }\n",
              "\n",
              "    .dataframe tbody tr th {\n",
              "        vertical-align: top;\n",
              "    }\n",
              "\n",
              "    .dataframe thead th {\n",
              "        text-align: right;\n",
              "    }\n",
              "</style>\n",
              "<table border=\"1\" class=\"dataframe\">\n",
              "  <thead>\n",
              "    <tr style=\"text-align: right;\">\n",
              "      <th></th>\n",
              "      <th>Date</th>\n",
              "      <th>Open</th>\n",
              "      <th>High</th>\n",
              "      <th>Low</th>\n",
              "      <th>Close</th>\n",
              "      <th>Adj Close</th>\n",
              "      <th>Volume</th>\n",
              "    </tr>\n",
              "  </thead>\n",
              "  <tbody>\n",
              "    <tr>\n",
              "      <th>0</th>\n",
              "      <td>2013-01-01</td>\n",
              "      <td>290.950012</td>\n",
              "      <td>291.237488</td>\n",
              "      <td>288.193756</td>\n",
              "      <td>288.606262</td>\n",
              "      <td>220.877151</td>\n",
              "      <td>2959992</td>\n",
              "    </tr>\n",
              "  </tbody>\n",
              "</table>\n",
              "</div>\n",
              "    <div class=\"colab-df-buttons\">\n",
              "\n",
              "  <div class=\"colab-df-container\">\n",
              "    <button class=\"colab-df-convert\" onclick=\"convertToInteractive('df-26037a02-934f-46c6-8c61-04cff142b623')\"\n",
              "            title=\"Convert this dataframe to an interactive table.\"\n",
              "            style=\"display:none;\">\n",
              "\n",
              "  <svg xmlns=\"http://www.w3.org/2000/svg\" height=\"24px\" viewBox=\"0 -960 960 960\">\n",
              "    <path d=\"M120-120v-720h720v720H120Zm60-500h600v-160H180v160Zm220 220h160v-160H400v160Zm0 220h160v-160H400v160ZM180-400h160v-160H180v160Zm440 0h160v-160H620v160ZM180-180h160v-160H180v160Zm440 0h160v-160H620v160Z\"/>\n",
              "  </svg>\n",
              "    </button>\n",
              "\n",
              "  <style>\n",
              "    .colab-df-container {\n",
              "      display:flex;\n",
              "      gap: 12px;\n",
              "    }\n",
              "\n",
              "    .colab-df-convert {\n",
              "      background-color: #E8F0FE;\n",
              "      border: none;\n",
              "      border-radius: 50%;\n",
              "      cursor: pointer;\n",
              "      display: none;\n",
              "      fill: #1967D2;\n",
              "      height: 32px;\n",
              "      padding: 0 0 0 0;\n",
              "      width: 32px;\n",
              "    }\n",
              "\n",
              "    .colab-df-convert:hover {\n",
              "      background-color: #E2EBFA;\n",
              "      box-shadow: 0px 1px 2px rgba(60, 64, 67, 0.3), 0px 1px 3px 1px rgba(60, 64, 67, 0.15);\n",
              "      fill: #174EA6;\n",
              "    }\n",
              "\n",
              "    .colab-df-buttons div {\n",
              "      margin-bottom: 4px;\n",
              "    }\n",
              "\n",
              "    [theme=dark] .colab-df-convert {\n",
              "      background-color: #3B4455;\n",
              "      fill: #D2E3FC;\n",
              "    }\n",
              "\n",
              "    [theme=dark] .colab-df-convert:hover {\n",
              "      background-color: #434B5C;\n",
              "      box-shadow: 0px 1px 3px 1px rgba(0, 0, 0, 0.15);\n",
              "      filter: drop-shadow(0px 1px 2px rgba(0, 0, 0, 0.3));\n",
              "      fill: #FFFFFF;\n",
              "    }\n",
              "  </style>\n",
              "\n",
              "    <script>\n",
              "      const buttonEl =\n",
              "        document.querySelector('#df-26037a02-934f-46c6-8c61-04cff142b623 button.colab-df-convert');\n",
              "      buttonEl.style.display =\n",
              "        google.colab.kernel.accessAllowed ? 'block' : 'none';\n",
              "\n",
              "      async function convertToInteractive(key) {\n",
              "        const element = document.querySelector('#df-26037a02-934f-46c6-8c61-04cff142b623');\n",
              "        const dataTable =\n",
              "          await google.colab.kernel.invokeFunction('convertToInteractive',\n",
              "                                                    [key], {});\n",
              "        if (!dataTable) return;\n",
              "\n",
              "        const docLinkHtml = 'Like what you see? Visit the ' +\n",
              "          '<a target=\"_blank\" href=https://colab.research.google.com/notebooks/data_table.ipynb>data table notebook</a>'\n",
              "          + ' to learn more about interactive tables.';\n",
              "        element.innerHTML = '';\n",
              "        dataTable['output_type'] = 'display_data';\n",
              "        await google.colab.output.renderOutput(dataTable, element);\n",
              "        const docLink = document.createElement('div');\n",
              "        docLink.innerHTML = docLinkHtml;\n",
              "        element.appendChild(docLink);\n",
              "      }\n",
              "    </script>\n",
              "  </div>\n",
              "\n",
              "    </div>\n",
              "  </div>\n"
            ]
          },
          "metadata": {},
          "execution_count": 16
        }
      ]
    },
    {
      "cell_type": "code",
      "source": [
        "close_df = prices_df[['Date', 'Adj Close']]"
      ],
      "metadata": {
        "id": "wI_S4Cl17HnH"
      },
      "execution_count": null,
      "outputs": []
    },
    {
      "cell_type": "code",
      "source": [
        "close_df['Next Day'] = close_df['Adj Close'].shift(-1)\n",
        "close_df.drop(len(close_df)-1, inplace=True)"
      ],
      "metadata": {
        "colab": {
          "base_uri": "https://localhost:8080/"
        },
        "id": "v0svRc7RybvH",
        "outputId": "31458e93-2bc1-44af-e8b0-28a414b878c9"
      },
      "execution_count": null,
      "outputs": [
        {
          "output_type": "stream",
          "name": "stderr",
          "text": [
            "<ipython-input-21-37bddcbb9a27>:1: SettingWithCopyWarning: \n",
            "A value is trying to be set on a copy of a slice from a DataFrame.\n",
            "Try using .loc[row_indexer,col_indexer] = value instead\n",
            "\n",
            "See the caveats in the documentation: https://pandas.pydata.org/pandas-docs/stable/user_guide/indexing.html#returning-a-view-versus-a-copy\n",
            "  close_df['Next Day'] = close_df['Adj Close'].shift(-1)\n"
          ]
        }
      ]
    },
    {
      "cell_type": "code",
      "source": [
        "close_df.tail(3)"
      ],
      "metadata": {
        "colab": {
          "base_uri": "https://localhost:8080/",
          "height": 143
        },
        "id": "sUOKr9Np0B1s",
        "outputId": "f9bfe004-dcb2-4ee2-d11e-1ee067038a9c"
      },
      "execution_count": null,
      "outputs": [
        {
          "output_type": "execute_result",
          "data": {
            "text/plain": [
              "            Date    Adj Close     Next Day\n",
              "2498  2023-02-14  1551.249878  1554.949829\n",
              "2499  2023-02-15  1554.949829  1559.574585\n",
              "2500  2023-02-16  1559.574585  1542.049072"
            ],
            "text/html": [
              "\n",
              "  <div id=\"df-b489ebd5-5d33-4249-9ca0-59ba7f7a07bd\" class=\"colab-df-container\">\n",
              "    <div>\n",
              "<style scoped>\n",
              "    .dataframe tbody tr th:only-of-type {\n",
              "        vertical-align: middle;\n",
              "    }\n",
              "\n",
              "    .dataframe tbody tr th {\n",
              "        vertical-align: top;\n",
              "    }\n",
              "\n",
              "    .dataframe thead th {\n",
              "        text-align: right;\n",
              "    }\n",
              "</style>\n",
              "<table border=\"1\" class=\"dataframe\">\n",
              "  <thead>\n",
              "    <tr style=\"text-align: right;\">\n",
              "      <th></th>\n",
              "      <th>Date</th>\n",
              "      <th>Adj Close</th>\n",
              "      <th>Next Day</th>\n",
              "    </tr>\n",
              "  </thead>\n",
              "  <tbody>\n",
              "    <tr>\n",
              "      <th>2498</th>\n",
              "      <td>2023-02-14</td>\n",
              "      <td>1551.249878</td>\n",
              "      <td>1554.949829</td>\n",
              "    </tr>\n",
              "    <tr>\n",
              "      <th>2499</th>\n",
              "      <td>2023-02-15</td>\n",
              "      <td>1554.949829</td>\n",
              "      <td>1559.574585</td>\n",
              "    </tr>\n",
              "    <tr>\n",
              "      <th>2500</th>\n",
              "      <td>2023-02-16</td>\n",
              "      <td>1559.574585</td>\n",
              "      <td>1542.049072</td>\n",
              "    </tr>\n",
              "  </tbody>\n",
              "</table>\n",
              "</div>\n",
              "    <div class=\"colab-df-buttons\">\n",
              "\n",
              "  <div class=\"colab-df-container\">\n",
              "    <button class=\"colab-df-convert\" onclick=\"convertToInteractive('df-b489ebd5-5d33-4249-9ca0-59ba7f7a07bd')\"\n",
              "            title=\"Convert this dataframe to an interactive table.\"\n",
              "            style=\"display:none;\">\n",
              "\n",
              "  <svg xmlns=\"http://www.w3.org/2000/svg\" height=\"24px\" viewBox=\"0 -960 960 960\">\n",
              "    <path d=\"M120-120v-720h720v720H120Zm60-500h600v-160H180v160Zm220 220h160v-160H400v160Zm0 220h160v-160H400v160ZM180-400h160v-160H180v160Zm440 0h160v-160H620v160ZM180-180h160v-160H180v160Zm440 0h160v-160H620v160Z\"/>\n",
              "  </svg>\n",
              "    </button>\n",
              "\n",
              "  <style>\n",
              "    .colab-df-container {\n",
              "      display:flex;\n",
              "      gap: 12px;\n",
              "    }\n",
              "\n",
              "    .colab-df-convert {\n",
              "      background-color: #E8F0FE;\n",
              "      border: none;\n",
              "      border-radius: 50%;\n",
              "      cursor: pointer;\n",
              "      display: none;\n",
              "      fill: #1967D2;\n",
              "      height: 32px;\n",
              "      padding: 0 0 0 0;\n",
              "      width: 32px;\n",
              "    }\n",
              "\n",
              "    .colab-df-convert:hover {\n",
              "      background-color: #E2EBFA;\n",
              "      box-shadow: 0px 1px 2px rgba(60, 64, 67, 0.3), 0px 1px 3px 1px rgba(60, 64, 67, 0.15);\n",
              "      fill: #174EA6;\n",
              "    }\n",
              "\n",
              "    .colab-df-buttons div {\n",
              "      margin-bottom: 4px;\n",
              "    }\n",
              "\n",
              "    [theme=dark] .colab-df-convert {\n",
              "      background-color: #3B4455;\n",
              "      fill: #D2E3FC;\n",
              "    }\n",
              "\n",
              "    [theme=dark] .colab-df-convert:hover {\n",
              "      background-color: #434B5C;\n",
              "      box-shadow: 0px 1px 3px 1px rgba(0, 0, 0, 0.15);\n",
              "      filter: drop-shadow(0px 1px 2px rgba(0, 0, 0, 0.3));\n",
              "      fill: #FFFFFF;\n",
              "    }\n",
              "  </style>\n",
              "\n",
              "    <script>\n",
              "      const buttonEl =\n",
              "        document.querySelector('#df-b489ebd5-5d33-4249-9ca0-59ba7f7a07bd button.colab-df-convert');\n",
              "      buttonEl.style.display =\n",
              "        google.colab.kernel.accessAllowed ? 'block' : 'none';\n",
              "\n",
              "      async function convertToInteractive(key) {\n",
              "        const element = document.querySelector('#df-b489ebd5-5d33-4249-9ca0-59ba7f7a07bd');\n",
              "        const dataTable =\n",
              "          await google.colab.kernel.invokeFunction('convertToInteractive',\n",
              "                                                    [key], {});\n",
              "        if (!dataTable) return;\n",
              "\n",
              "        const docLinkHtml = 'Like what you see? Visit the ' +\n",
              "          '<a target=\"_blank\" href=https://colab.research.google.com/notebooks/data_table.ipynb>data table notebook</a>'\n",
              "          + ' to learn more about interactive tables.';\n",
              "        element.innerHTML = '';\n",
              "        dataTable['output_type'] = 'display_data';\n",
              "        await google.colab.output.renderOutput(dataTable, element);\n",
              "        const docLink = document.createElement('div');\n",
              "        docLink.innerHTML = docLinkHtml;\n",
              "        element.appendChild(docLink);\n",
              "      }\n",
              "    </script>\n",
              "  </div>\n",
              "\n",
              "\n",
              "<div id=\"df-b301f0ab-93ae-417a-b5a4-327179f9620b\">\n",
              "  <button class=\"colab-df-quickchart\" onclick=\"quickchart('df-b301f0ab-93ae-417a-b5a4-327179f9620b')\"\n",
              "            title=\"Suggest charts.\"\n",
              "            style=\"display:none;\">\n",
              "\n",
              "<svg xmlns=\"http://www.w3.org/2000/svg\" height=\"24px\"viewBox=\"0 0 24 24\"\n",
              "     width=\"24px\">\n",
              "    <g>\n",
              "        <path d=\"M19 3H5c-1.1 0-2 .9-2 2v14c0 1.1.9 2 2 2h14c1.1 0 2-.9 2-2V5c0-1.1-.9-2-2-2zM9 17H7v-7h2v7zm4 0h-2V7h2v10zm4 0h-2v-4h2v4z\"/>\n",
              "    </g>\n",
              "</svg>\n",
              "  </button>\n",
              "\n",
              "<style>\n",
              "  .colab-df-quickchart {\n",
              "      --bg-color: #E8F0FE;\n",
              "      --fill-color: #1967D2;\n",
              "      --hover-bg-color: #E2EBFA;\n",
              "      --hover-fill-color: #174EA6;\n",
              "      --disabled-fill-color: #AAA;\n",
              "      --disabled-bg-color: #DDD;\n",
              "  }\n",
              "\n",
              "  [theme=dark] .colab-df-quickchart {\n",
              "      --bg-color: #3B4455;\n",
              "      --fill-color: #D2E3FC;\n",
              "      --hover-bg-color: #434B5C;\n",
              "      --hover-fill-color: #FFFFFF;\n",
              "      --disabled-bg-color: #3B4455;\n",
              "      --disabled-fill-color: #666;\n",
              "  }\n",
              "\n",
              "  .colab-df-quickchart {\n",
              "    background-color: var(--bg-color);\n",
              "    border: none;\n",
              "    border-radius: 50%;\n",
              "    cursor: pointer;\n",
              "    display: none;\n",
              "    fill: var(--fill-color);\n",
              "    height: 32px;\n",
              "    padding: 0;\n",
              "    width: 32px;\n",
              "  }\n",
              "\n",
              "  .colab-df-quickchart:hover {\n",
              "    background-color: var(--hover-bg-color);\n",
              "    box-shadow: 0 1px 2px rgba(60, 64, 67, 0.3), 0 1px 3px 1px rgba(60, 64, 67, 0.15);\n",
              "    fill: var(--button-hover-fill-color);\n",
              "  }\n",
              "\n",
              "  .colab-df-quickchart-complete:disabled,\n",
              "  .colab-df-quickchart-complete:disabled:hover {\n",
              "    background-color: var(--disabled-bg-color);\n",
              "    fill: var(--disabled-fill-color);\n",
              "    box-shadow: none;\n",
              "  }\n",
              "\n",
              "  .colab-df-spinner {\n",
              "    border: 2px solid var(--fill-color);\n",
              "    border-color: transparent;\n",
              "    border-bottom-color: var(--fill-color);\n",
              "    animation:\n",
              "      spin 1s steps(1) infinite;\n",
              "  }\n",
              "\n",
              "  @keyframes spin {\n",
              "    0% {\n",
              "      border-color: transparent;\n",
              "      border-bottom-color: var(--fill-color);\n",
              "      border-left-color: var(--fill-color);\n",
              "    }\n",
              "    20% {\n",
              "      border-color: transparent;\n",
              "      border-left-color: var(--fill-color);\n",
              "      border-top-color: var(--fill-color);\n",
              "    }\n",
              "    30% {\n",
              "      border-color: transparent;\n",
              "      border-left-color: var(--fill-color);\n",
              "      border-top-color: var(--fill-color);\n",
              "      border-right-color: var(--fill-color);\n",
              "    }\n",
              "    40% {\n",
              "      border-color: transparent;\n",
              "      border-right-color: var(--fill-color);\n",
              "      border-top-color: var(--fill-color);\n",
              "    }\n",
              "    60% {\n",
              "      border-color: transparent;\n",
              "      border-right-color: var(--fill-color);\n",
              "    }\n",
              "    80% {\n",
              "      border-color: transparent;\n",
              "      border-right-color: var(--fill-color);\n",
              "      border-bottom-color: var(--fill-color);\n",
              "    }\n",
              "    90% {\n",
              "      border-color: transparent;\n",
              "      border-bottom-color: var(--fill-color);\n",
              "    }\n",
              "  }\n",
              "</style>\n",
              "\n",
              "  <script>\n",
              "    async function quickchart(key) {\n",
              "      const quickchartButtonEl =\n",
              "        document.querySelector('#' + key + ' button');\n",
              "      quickchartButtonEl.disabled = true;  // To prevent multiple clicks.\n",
              "      quickchartButtonEl.classList.add('colab-df-spinner');\n",
              "      try {\n",
              "        const charts = await google.colab.kernel.invokeFunction(\n",
              "            'suggestCharts', [key], {});\n",
              "      } catch (error) {\n",
              "        console.error('Error during call to suggestCharts:', error);\n",
              "      }\n",
              "      quickchartButtonEl.classList.remove('colab-df-spinner');\n",
              "      quickchartButtonEl.classList.add('colab-df-quickchart-complete');\n",
              "    }\n",
              "    (() => {\n",
              "      let quickchartButtonEl =\n",
              "        document.querySelector('#df-b301f0ab-93ae-417a-b5a4-327179f9620b button');\n",
              "      quickchartButtonEl.style.display =\n",
              "        google.colab.kernel.accessAllowed ? 'block' : 'none';\n",
              "    })();\n",
              "  </script>\n",
              "</div>\n",
              "    </div>\n",
              "  </div>\n"
            ]
          },
          "metadata": {},
          "execution_count": 26
        }
      ]
    },
    {
      "cell_type": "code",
      "source": [
        "close_df['Price_Diff'] = close_df['Next Day']-close_df['Adj Close']\n",
        "\n",
        "close_df['Scaled_Label'] = close_df['Price_Diff']/close_df['Price_Diff'].abs().max()"
      ],
      "metadata": {
        "colab": {
          "base_uri": "https://localhost:8080/"
        },
        "id": "cJd174eZ0HcV",
        "outputId": "de013958-102d-4b8c-b148-5d41d5f2f5ea"
      },
      "execution_count": null,
      "outputs": [
        {
          "output_type": "stream",
          "name": "stderr",
          "text": [
            "<ipython-input-27-2007b65ed3b4>:1: SettingWithCopyWarning: \n",
            "A value is trying to be set on a copy of a slice from a DataFrame.\n",
            "Try using .loc[row_indexer,col_indexer] = value instead\n",
            "\n",
            "See the caveats in the documentation: https://pandas.pydata.org/pandas-docs/stable/user_guide/indexing.html#returning-a-view-versus-a-copy\n",
            "  close_df['Label'] = close_df['Next Day']-close_df['Adj Close']\n",
            "<ipython-input-27-2007b65ed3b4>:3: SettingWithCopyWarning: \n",
            "A value is trying to be set on a copy of a slice from a DataFrame.\n",
            "Try using .loc[row_indexer,col_indexer] = value instead\n",
            "\n",
            "See the caveats in the documentation: https://pandas.pydata.org/pandas-docs/stable/user_guide/indexing.html#returning-a-view-versus-a-copy\n",
            "  close_df['Normalized Label'] = close_df['Label']/close_df['Label'].abs().max()\n"
          ]
        }
      ]
    },
    {
      "cell_type": "code",
      "source": [
        "close_df.to_csv('/content/drive/MyDrive/Dataset/Stock Price Prediction/Prices/prices_infosys.csv')"
      ],
      "metadata": {
        "id": "1YU6JnDn1_TV"
      },
      "execution_count": null,
      "outputs": []
    },
    {
      "cell_type": "markdown",
      "source": [
        "```\n",
        "Dataset for prices has been created and saved.\n",
        "```\n",
        "\n",
        "##Computing News Sentiment scores according to Stock Market Dates\n",
        "\n"
      ],
      "metadata": {
        "id": "zvkctEck3Oc9"
      }
    },
    {
      "cell_type": "code",
      "source": [
        "import pandas as pd\n",
        "import numpy as np"
      ],
      "metadata": {
        "id": "HxuC1BKAm4eE"
      },
      "execution_count": null,
      "outputs": []
    },
    {
      "cell_type": "code",
      "source": [
        "sentiment_df = pd.read_csv('/content/drive/MyDrive/Dataset/Stock Price Prediction/News/sentiment_scores.csv', index_col=False)\n",
        "prices_df = pd.read_csv('/content/drive/MyDrive/Dataset/Stock Price Prediction/Prices/prices_infosys.csv', index_col=False)"
      ],
      "metadata": {
        "id": "B1ozUY5o4lxc"
      },
      "execution_count": null,
      "outputs": []
    },
    {
      "cell_type": "code",
      "source": [
        "sentiment_df.columns\n",
        "sentiment_df = sentiment_df.drop('Unnamed: 0', axis=1)"
      ],
      "metadata": {
        "colab": {
          "base_uri": "https://localhost:8080/"
        },
        "id": "Xnzo76mOFHcM",
        "outputId": "e708d353-99ec-4d54-80d8-c6defacd50d6"
      },
      "execution_count": null,
      "outputs": [
        {
          "output_type": "execute_result",
          "data": {
            "text/plain": [
              "Index(['Unnamed: 0', 'sentiment_score', 'count', 'Date'], dtype='object')"
            ]
          },
          "metadata": {},
          "execution_count": 27
        }
      ]
    },
    {
      "cell_type": "code",
      "source": [
        "# Reformatting the date in dataset1\n",
        "sentiment_df['Date'] = pd.to_datetime(sentiment_df['Date'], format='%d-%m-%Y').dt.strftime('%d-%m-%Y')\n",
        "\n",
        "# Reformatting the date in dataset2\n",
        "prices_df['Date'] = pd.to_datetime(prices_df['Date']).dt.strftime('%d-%m-%Y')\n"
      ],
      "metadata": {
        "id": "gCNYaOH3Suzu"
      },
      "execution_count": null,
      "outputs": []
    },
    {
      "cell_type": "code",
      "source": [
        "def rearrange_dates(df_a, df_b):\n",
        "\n",
        "    # df_a = sentiment_df and df_b = prices_df\n",
        "    iter_a = df_a.iterrows()\n",
        "    iter_b = df_b.iterrows()\n",
        "\n",
        "    scores = []\n",
        "    dates = []\n",
        "\n",
        "    row_a = next(iter_a, None)\n",
        "    row_b = next(iter_b, None)\n",
        "    flag = False\n",
        "    # Iterate over the rows of df_a and df_b separately\n",
        "    for i in range(len(df_a)):\n",
        "        if flag:\n",
        "            row_a = next_a\n",
        "            row_b = next_b\n",
        "\n",
        "        next_a = next(iter_a, None)\n",
        "        next_b = next(iter_b, None)\n",
        "\n",
        "        if (next_a == None) or (next_b == None):\n",
        "            break\n",
        "        if next_a[1]['Date'] == next_b[1]['Date']:\n",
        "            scores.append(row_a[1]['sentiment_score'])\n",
        "            dates.append(row_a[1]['Date'])\n",
        "        else:\n",
        "            date = row_a[1]['Date']\n",
        "            sum = (row_a[1]['sentiment_score'] * row_a[1]['count'])\n",
        "            cnt = row_a[1]['count']\n",
        "            while (next_a != None) and (next_a[1]['Date'] != next_b[1]['Date']):\n",
        "                sum = sum + (next_a[1]['sentiment_score'] * next_a[1]['count'])\n",
        "                cnt = cnt + next_a[1]['count']\n",
        "                next_a = next(iter_a, None)\n",
        "            scores.append(sum/cnt)\n",
        "            dates.append(date)\n",
        "        flag = True\n",
        "\n",
        "\n",
        "    rearranged_sentiment_df = pd.DataFrame({'sentiment_score': scores, 'Date': dates})\n",
        "    return rearranged_sentiment_df"
      ],
      "metadata": {
        "id": "X1-pTuIIfxUp"
      },
      "execution_count": null,
      "outputs": []
    },
    {
      "cell_type": "code",
      "source": [
        "rearranged_df = rearrange_dates(sentiment_df, prices_df)\n",
        "rearranged_df.to_csv('/content/drive/MyDrive/Dataset/Stock Price Prediction/News/rearranged.csv')"
      ],
      "metadata": {
        "id": "3KX9V__3joAQ"
      },
      "execution_count": null,
      "outputs": []
    },
    {
      "cell_type": "code",
      "source": [
        "prices_df = prices_df.drop(2500)\n",
        "prices_df.to_csv('/content/drive/MyDrive/Dataset/Stock Price Prediction/Prices/prices_infosys.csv')"
      ],
      "metadata": {
        "id": "cv2u1tYpQso0"
      },
      "execution_count": null,
      "outputs": []
    },
    {
      "cell_type": "markdown",
      "source": [
        "\n",
        "\n",
        "---\n",
        "###Normalize sentiment scores and Adj Close to compute Impact\n",
        "---\n",
        "\n"
      ],
      "metadata": {
        "id": "4PR6TjnQiQEn"
      }
    },
    {
      "cell_type": "code",
      "source": [
        "import pandas as pd"
      ],
      "metadata": {
        "id": "jVomvijWjaDO"
      },
      "execution_count": null,
      "outputs": []
    },
    {
      "cell_type": "code",
      "source": [
        "prices_df = pd.read_csv('/content/drive/MyDrive/Dataset/Stock Price Prediction/Prices/prices_infosys.csv', index_col=False)\n",
        "sentiment_df = pd.read_csv('/content/drive/MyDrive/Dataset/Stock Price Prediction/News/rearranged.csv', index_col=False)"
      ],
      "metadata": {
        "id": "T00PvNd3jbDo"
      },
      "execution_count": null,
      "outputs": []
    },
    {
      "cell_type": "code",
      "source": [
        "from sklearn.preprocessing import MinMaxScaler\n",
        "scaler = MinMaxScaler(feature_range=(-1, 1))"
      ],
      "metadata": {
        "id": "WvmmQemVrjwB"
      },
      "execution_count": null,
      "outputs": []
    },
    {
      "cell_type": "code",
      "source": [
        "sentiment_df['scaled_sentiment'] = scaler.fit_transform(sentiment_df[['sentiment_score']])"
      ],
      "metadata": {
        "id": "EPdiU1yJsF7J"
      },
      "execution_count": null,
      "outputs": []
    },
    {
      "cell_type": "code",
      "source": [
        "prices_df['Impact'] = prices_df['Scaled_Label'] * sentiment_df['scaled_sentiment']\n",
        "prices_df['Impact'] = prices_df['Impact'].abs()\n",
        "prices_df.loc[prices_df['Scaled_Label'] < 0, 'Impact'] *= -1"
      ],
      "metadata": {
        "id": "I89uUjcdsFwR"
      },
      "execution_count": null,
      "outputs": []
    },
    {
      "cell_type": "code",
      "source": [
        "prices_df.head(3)"
      ],
      "metadata": {
        "colab": {
          "base_uri": "https://localhost:8080/",
          "height": 143
        },
        "id": "wfQAMPbgsFd-",
        "outputId": "b526476f-afa0-4647-9641-5e3c6b9502c6"
      },
      "execution_count": null,
      "outputs": [
        {
          "output_type": "execute_result",
          "data": {
            "text/plain": [
              "   Unnamed: 0.1  Unnamed: 0        Date   Adj Close    Next Day     Label  \\\n",
              "0             0           0  01-01-2013  220.877151  220.910645  0.033493   \n",
              "1             1           1  02-01-2013  220.910645  223.656235  2.745590   \n",
              "2             2           2  03-01-2013  223.656235  224.770782  1.114548   \n",
              "\n",
              "   Normalized Label  normalized_diff    Impact  \n",
              "0          0.002764         0.000276  0.000041  \n",
              "1          0.226578         0.022658  0.002408  \n",
              "2          0.091977         0.009198  0.002877  "
            ],
            "text/html": [
              "\n",
              "  <div id=\"df-757efd24-a424-4cfa-999f-4682ac21d98e\" class=\"colab-df-container\">\n",
              "    <div>\n",
              "<style scoped>\n",
              "    .dataframe tbody tr th:only-of-type {\n",
              "        vertical-align: middle;\n",
              "    }\n",
              "\n",
              "    .dataframe tbody tr th {\n",
              "        vertical-align: top;\n",
              "    }\n",
              "\n",
              "    .dataframe thead th {\n",
              "        text-align: right;\n",
              "    }\n",
              "</style>\n",
              "<table border=\"1\" class=\"dataframe\">\n",
              "  <thead>\n",
              "    <tr style=\"text-align: right;\">\n",
              "      <th></th>\n",
              "      <th>Unnamed: 0.1</th>\n",
              "      <th>Unnamed: 0</th>\n",
              "      <th>Date</th>\n",
              "      <th>Adj Close</th>\n",
              "      <th>Next Day</th>\n",
              "      <th>Label</th>\n",
              "      <th>Normalized Label</th>\n",
              "      <th>normalized_diff</th>\n",
              "      <th>Impact</th>\n",
              "    </tr>\n",
              "  </thead>\n",
              "  <tbody>\n",
              "    <tr>\n",
              "      <th>0</th>\n",
              "      <td>0</td>\n",
              "      <td>0</td>\n",
              "      <td>01-01-2013</td>\n",
              "      <td>220.877151</td>\n",
              "      <td>220.910645</td>\n",
              "      <td>0.033493</td>\n",
              "      <td>0.002764</td>\n",
              "      <td>0.000276</td>\n",
              "      <td>0.000041</td>\n",
              "    </tr>\n",
              "    <tr>\n",
              "      <th>1</th>\n",
              "      <td>1</td>\n",
              "      <td>1</td>\n",
              "      <td>02-01-2013</td>\n",
              "      <td>220.910645</td>\n",
              "      <td>223.656235</td>\n",
              "      <td>2.745590</td>\n",
              "      <td>0.226578</td>\n",
              "      <td>0.022658</td>\n",
              "      <td>0.002408</td>\n",
              "    </tr>\n",
              "    <tr>\n",
              "      <th>2</th>\n",
              "      <td>2</td>\n",
              "      <td>2</td>\n",
              "      <td>03-01-2013</td>\n",
              "      <td>223.656235</td>\n",
              "      <td>224.770782</td>\n",
              "      <td>1.114548</td>\n",
              "      <td>0.091977</td>\n",
              "      <td>0.009198</td>\n",
              "      <td>0.002877</td>\n",
              "    </tr>\n",
              "  </tbody>\n",
              "</table>\n",
              "</div>\n",
              "    <div class=\"colab-df-buttons\">\n",
              "\n",
              "  <div class=\"colab-df-container\">\n",
              "    <button class=\"colab-df-convert\" onclick=\"convertToInteractive('df-757efd24-a424-4cfa-999f-4682ac21d98e')\"\n",
              "            title=\"Convert this dataframe to an interactive table.\"\n",
              "            style=\"display:none;\">\n",
              "\n",
              "  <svg xmlns=\"http://www.w3.org/2000/svg\" height=\"24px\" viewBox=\"0 -960 960 960\">\n",
              "    <path d=\"M120-120v-720h720v720H120Zm60-500h600v-160H180v160Zm220 220h160v-160H400v160Zm0 220h160v-160H400v160ZM180-400h160v-160H180v160Zm440 0h160v-160H620v160ZM180-180h160v-160H180v160Zm440 0h160v-160H620v160Z\"/>\n",
              "  </svg>\n",
              "    </button>\n",
              "\n",
              "  <style>\n",
              "    .colab-df-container {\n",
              "      display:flex;\n",
              "      gap: 12px;\n",
              "    }\n",
              "\n",
              "    .colab-df-convert {\n",
              "      background-color: #E8F0FE;\n",
              "      border: none;\n",
              "      border-radius: 50%;\n",
              "      cursor: pointer;\n",
              "      display: none;\n",
              "      fill: #1967D2;\n",
              "      height: 32px;\n",
              "      padding: 0 0 0 0;\n",
              "      width: 32px;\n",
              "    }\n",
              "\n",
              "    .colab-df-convert:hover {\n",
              "      background-color: #E2EBFA;\n",
              "      box-shadow: 0px 1px 2px rgba(60, 64, 67, 0.3), 0px 1px 3px 1px rgba(60, 64, 67, 0.15);\n",
              "      fill: #174EA6;\n",
              "    }\n",
              "\n",
              "    .colab-df-buttons div {\n",
              "      margin-bottom: 4px;\n",
              "    }\n",
              "\n",
              "    [theme=dark] .colab-df-convert {\n",
              "      background-color: #3B4455;\n",
              "      fill: #D2E3FC;\n",
              "    }\n",
              "\n",
              "    [theme=dark] .colab-df-convert:hover {\n",
              "      background-color: #434B5C;\n",
              "      box-shadow: 0px 1px 3px 1px rgba(0, 0, 0, 0.15);\n",
              "      filter: drop-shadow(0px 1px 2px rgba(0, 0, 0, 0.3));\n",
              "      fill: #FFFFFF;\n",
              "    }\n",
              "  </style>\n",
              "\n",
              "    <script>\n",
              "      const buttonEl =\n",
              "        document.querySelector('#df-757efd24-a424-4cfa-999f-4682ac21d98e button.colab-df-convert');\n",
              "      buttonEl.style.display =\n",
              "        google.colab.kernel.accessAllowed ? 'block' : 'none';\n",
              "\n",
              "      async function convertToInteractive(key) {\n",
              "        const element = document.querySelector('#df-757efd24-a424-4cfa-999f-4682ac21d98e');\n",
              "        const dataTable =\n",
              "          await google.colab.kernel.invokeFunction('convertToInteractive',\n",
              "                                                    [key], {});\n",
              "        if (!dataTable) return;\n",
              "\n",
              "        const docLinkHtml = 'Like what you see? Visit the ' +\n",
              "          '<a target=\"_blank\" href=https://colab.research.google.com/notebooks/data_table.ipynb>data table notebook</a>'\n",
              "          + ' to learn more about interactive tables.';\n",
              "        element.innerHTML = '';\n",
              "        dataTable['output_type'] = 'display_data';\n",
              "        await google.colab.output.renderOutput(dataTable, element);\n",
              "        const docLink = document.createElement('div');\n",
              "        docLink.innerHTML = docLinkHtml;\n",
              "        element.appendChild(docLink);\n",
              "      }\n",
              "    </script>\n",
              "  </div>\n",
              "\n",
              "\n",
              "<div id=\"df-af6e4544-4ef8-4ce6-aad6-15b5bfd227b1\">\n",
              "  <button class=\"colab-df-quickchart\" onclick=\"quickchart('df-af6e4544-4ef8-4ce6-aad6-15b5bfd227b1')\"\n",
              "            title=\"Suggest charts.\"\n",
              "            style=\"display:none;\">\n",
              "\n",
              "<svg xmlns=\"http://www.w3.org/2000/svg\" height=\"24px\"viewBox=\"0 0 24 24\"\n",
              "     width=\"24px\">\n",
              "    <g>\n",
              "        <path d=\"M19 3H5c-1.1 0-2 .9-2 2v14c0 1.1.9 2 2 2h14c1.1 0 2-.9 2-2V5c0-1.1-.9-2-2-2zM9 17H7v-7h2v7zm4 0h-2V7h2v10zm4 0h-2v-4h2v4z\"/>\n",
              "    </g>\n",
              "</svg>\n",
              "  </button>\n",
              "\n",
              "<style>\n",
              "  .colab-df-quickchart {\n",
              "      --bg-color: #E8F0FE;\n",
              "      --fill-color: #1967D2;\n",
              "      --hover-bg-color: #E2EBFA;\n",
              "      --hover-fill-color: #174EA6;\n",
              "      --disabled-fill-color: #AAA;\n",
              "      --disabled-bg-color: #DDD;\n",
              "  }\n",
              "\n",
              "  [theme=dark] .colab-df-quickchart {\n",
              "      --bg-color: #3B4455;\n",
              "      --fill-color: #D2E3FC;\n",
              "      --hover-bg-color: #434B5C;\n",
              "      --hover-fill-color: #FFFFFF;\n",
              "      --disabled-bg-color: #3B4455;\n",
              "      --disabled-fill-color: #666;\n",
              "  }\n",
              "\n",
              "  .colab-df-quickchart {\n",
              "    background-color: var(--bg-color);\n",
              "    border: none;\n",
              "    border-radius: 50%;\n",
              "    cursor: pointer;\n",
              "    display: none;\n",
              "    fill: var(--fill-color);\n",
              "    height: 32px;\n",
              "    padding: 0;\n",
              "    width: 32px;\n",
              "  }\n",
              "\n",
              "  .colab-df-quickchart:hover {\n",
              "    background-color: var(--hover-bg-color);\n",
              "    box-shadow: 0 1px 2px rgba(60, 64, 67, 0.3), 0 1px 3px 1px rgba(60, 64, 67, 0.15);\n",
              "    fill: var(--button-hover-fill-color);\n",
              "  }\n",
              "\n",
              "  .colab-df-quickchart-complete:disabled,\n",
              "  .colab-df-quickchart-complete:disabled:hover {\n",
              "    background-color: var(--disabled-bg-color);\n",
              "    fill: var(--disabled-fill-color);\n",
              "    box-shadow: none;\n",
              "  }\n",
              "\n",
              "  .colab-df-spinner {\n",
              "    border: 2px solid var(--fill-color);\n",
              "    border-color: transparent;\n",
              "    border-bottom-color: var(--fill-color);\n",
              "    animation:\n",
              "      spin 1s steps(1) infinite;\n",
              "  }\n",
              "\n",
              "  @keyframes spin {\n",
              "    0% {\n",
              "      border-color: transparent;\n",
              "      border-bottom-color: var(--fill-color);\n",
              "      border-left-color: var(--fill-color);\n",
              "    }\n",
              "    20% {\n",
              "      border-color: transparent;\n",
              "      border-left-color: var(--fill-color);\n",
              "      border-top-color: var(--fill-color);\n",
              "    }\n",
              "    30% {\n",
              "      border-color: transparent;\n",
              "      border-left-color: var(--fill-color);\n",
              "      border-top-color: var(--fill-color);\n",
              "      border-right-color: var(--fill-color);\n",
              "    }\n",
              "    40% {\n",
              "      border-color: transparent;\n",
              "      border-right-color: var(--fill-color);\n",
              "      border-top-color: var(--fill-color);\n",
              "    }\n",
              "    60% {\n",
              "      border-color: transparent;\n",
              "      border-right-color: var(--fill-color);\n",
              "    }\n",
              "    80% {\n",
              "      border-color: transparent;\n",
              "      border-right-color: var(--fill-color);\n",
              "      border-bottom-color: var(--fill-color);\n",
              "    }\n",
              "    90% {\n",
              "      border-color: transparent;\n",
              "      border-bottom-color: var(--fill-color);\n",
              "    }\n",
              "  }\n",
              "</style>\n",
              "\n",
              "  <script>\n",
              "    async function quickchart(key) {\n",
              "      const quickchartButtonEl =\n",
              "        document.querySelector('#' + key + ' button');\n",
              "      quickchartButtonEl.disabled = true;  // To prevent multiple clicks.\n",
              "      quickchartButtonEl.classList.add('colab-df-spinner');\n",
              "      try {\n",
              "        const charts = await google.colab.kernel.invokeFunction(\n",
              "            'suggestCharts', [key], {});\n",
              "      } catch (error) {\n",
              "        console.error('Error during call to suggestCharts:', error);\n",
              "      }\n",
              "      quickchartButtonEl.classList.remove('colab-df-spinner');\n",
              "      quickchartButtonEl.classList.add('colab-df-quickchart-complete');\n",
              "    }\n",
              "    (() => {\n",
              "      let quickchartButtonEl =\n",
              "        document.querySelector('#df-af6e4544-4ef8-4ce6-aad6-15b5bfd227b1 button');\n",
              "      quickchartButtonEl.style.display =\n",
              "        google.colab.kernel.accessAllowed ? 'block' : 'none';\n",
              "    })();\n",
              "  </script>\n",
              "</div>\n",
              "    </div>\n",
              "  </div>\n"
            ]
          },
          "metadata": {},
          "execution_count": 95
        }
      ]
    },
    {
      "cell_type": "code",
      "source": [
        "prices_df.columns"
      ],
      "metadata": {
        "colab": {
          "base_uri": "https://localhost:8080/"
        },
        "id": "e-eqqZJbwMC-",
        "outputId": "a95e7786-fa73-499a-e653-53f1fe62bdea"
      },
      "execution_count": null,
      "outputs": [
        {
          "output_type": "execute_result",
          "data": {
            "text/plain": [
              "Index(['Date', 'Adj Close', 'Next Day', 'normalized_diff', 'Impact'], dtype='object')"
            ]
          },
          "metadata": {},
          "execution_count": 100
        }
      ]
    },
    {
      "cell_type": "code",
      "source": [
        "prices_df.to_csv('/content/drive/MyDrive/Dataset/Stock Price Prediction/Prices/final.csv')"
      ],
      "metadata": {
        "id": "wE2JDSjiwMAD"
      },
      "execution_count": null,
      "outputs": []
    },
    {
      "cell_type": "markdown",
      "source": [
        "\n",
        "\n",
        "---\n",
        "\n"
      ],
      "metadata": {
        "id": "C_jjW0L7ka7-"
      }
    },
    {
      "cell_type": "markdown",
      "source": [
        "## LSTM Model"
      ],
      "metadata": {
        "id": "y8WWotvi7cwO"
      }
    },
    {
      "cell_type": "code",
      "source": [
        "!pip install tensorflow"
      ],
      "metadata": {
        "id": "dnwYL89m8TFm"
      },
      "execution_count": null,
      "outputs": []
    },
    {
      "cell_type": "code",
      "source": [
        "from sklearn.preprocessing import MinMaxScaler, StandardScaler\n",
        "from tensorflow.keras.models import Sequential\n",
        "from tensorflow.keras.layers import LSTM, Dense\n",
        "from tensorflow.keras import regularizers\n",
        "from tensorflow.keras.layers import LeakyReLU\n",
        "import pandas as pd\n",
        "import numpy as np\n",
        "import matplotlib.pyplot as plt"
      ],
      "metadata": {
        "id": "iYS1De9UwL9b"
      },
      "execution_count": null,
      "outputs": []
    },
    {
      "cell_type": "code",
      "source": [
        "df = pd.read_csv('/content/drive/MyDrive/Dataset/Stock Price Prediction/Prices/final.csv')\n",
        "\n",
        "data = df[['Adj Close', 'Impact']].values\n",
        "target = df['Next Day'].values\n",
        "\n",
        "# Normalize the input data\n",
        "scalerX = MinMaxScaler(feature_range=(0, 1))\n",
        "X_scaled = scalerX.fit_transform(data)\n",
        "\n",
        "#Empty lists will be used for formatted training data\n",
        "dataX = []\n",
        "targetY = []\n",
        "\n",
        "# How far to look in future\n",
        "predict_days = 1\n",
        "# number of past days\n",
        "timestep = 6\n",
        "\n",
        "for i in range(timestep, len(data) - predict_days +1):\n",
        "    dataX.append(X_scaled[i - timestep:i, 0:data.shape[1]])\n",
        "    targetY.append(target[i - 1:i + predict_days-1])\n",
        "\n",
        "scalerY = MinMaxScaler(feature_range=(0, 1))\n",
        "Y_scaled = scalerY.fit_transform(targetY)\n",
        "\n",
        "# Split the dataset into training and testing sets\n",
        "train_size = int(len(df) * 0.92)\n",
        "trainX = dataX[:train_size]\n",
        "testX = dataX[train_size:]\n",
        "\n",
        "trainY = Y_scaled[:train_size]\n",
        "testY = Y_scaled[train_size:]\n",
        "\n",
        "trainX, trainY = np.array(trainX), np.array(trainY)\n",
        "testX, testY = np.array(testX), np.array(testY)\n",
        "\n",
        "dates = df['Date']\n",
        "test_dates = dates[train_size:]"
      ],
      "metadata": {
        "id": "fwPENw22ly8b"
      },
      "execution_count": null,
      "outputs": []
    },
    {
      "cell_type": "code",
      "source": [
        "# Define the LSTM Model\n",
        "model = Sequential()\n",
        "model.add(LSTM(units=7, activation=LeakyReLU(alpha=0.3), input_shape=(trainX.shape[1], trainX.shape[2]), return_sequences=True))\n",
        "model.add(LSTM(units=4, activation=LeakyReLU(alpha=0.2), use_bias=True, return_sequences=True))\n",
        "model.add(LSTM(units=2, activation=LeakyReLU(alpha=0.3), use_bias=True, bias_regularizer=regularizers.l2(0.01), return_sequences=False))\n",
        "model.add(Dense(units=1))       # default activation function = Linear activation function\n"
      ],
      "metadata": {
        "id": "fRdhqJLMwL1A"
      },
      "execution_count": null,
      "outputs": []
    },
    {
      "cell_type": "code",
      "source": [
        "from tensorflow.keras.optimizers import Adam\n",
        "\n",
        "# Compile the Model with a custom learning rate\n",
        "learning_rate = 0.001\n",
        "optimizer = Adam(learning_rate=learning_rate)\n",
        "model.compile(optimizer=optimizer, loss='mae')"
      ],
      "metadata": {
        "id": "Wgr6LL_HwLx9"
      },
      "execution_count": null,
      "outputs": []
    },
    {
      "cell_type": "code",
      "source": [
        "# Train the Model\n",
        "history = model.fit(trainX, trainY, epochs=16, batch_size=3, shuffle=False, verbose=1)"
      ],
      "metadata": {
        "id": "pD41UXjU9aZV"
      },
      "execution_count": null,
      "outputs": []
    },
    {
      "cell_type": "code",
      "source": [
        "# Train the Model\n",
        "history2 = model.fit(trainX, trainY, epochs=4, batch_size=32, shuffle=False, verbose=1)"
      ],
      "metadata": {
        "colab": {
          "base_uri": "https://localhost:8080/"
        },
        "id": "Zp56A7EztYy8",
        "outputId": "a51b708c-b39f-4d5c-ce25-01a8fa697358"
      },
      "execution_count": null,
      "outputs": [
        {
          "output_type": "stream",
          "name": "stdout",
          "text": [
            "Epoch 1/2\n",
            "72/72 [==============================] - 1s 13ms/step - loss: 0.0181\n",
            "Epoch 2/2\n",
            "72/72 [==============================] - 1s 11ms/step - loss: 0.0207\n"
          ]
        }
      ]
    },
    {
      "cell_type": "code",
      "source": [
        "# Train the Model\n",
        "history3 = model.fit(trainX, trainY, epochs=4, batch_size=16, shuffle=False, verbose=1)"
      ],
      "metadata": {
        "colab": {
          "base_uri": "https://localhost:8080/"
        },
        "id": "lQJxdX9jtGrg",
        "outputId": "53ecb57b-a853-45ac-ccf8-dd3474ecf679"
      },
      "execution_count": null,
      "outputs": [
        {
          "output_type": "stream",
          "name": "stdout",
          "text": [
            "144/144 [==============================] - 3s 20ms/step - loss: 0.0105\n"
          ]
        }
      ]
    },
    {
      "cell_type": "code",
      "source": [
        "# Train the Model\n",
        "history4 = model.fit(trainX, trainY, epochs=2, batch_size=8, shuffle=False, verbose=1)"
      ],
      "metadata": {
        "colab": {
          "base_uri": "https://localhost:8080/"
        },
        "id": "L-Y7n9tJ6OgN",
        "outputId": "0bfb0dfc-518a-48ce-885b-e17393dc7aee"
      },
      "execution_count": null,
      "outputs": [
        {
          "output_type": "stream",
          "name": "stdout",
          "text": [
            "Epoch 1/2\n",
            "288/288 [==============================] - 3s 11ms/step - loss: 0.0112\n",
            "Epoch 2/2\n",
            "288/288 [==============================] - 3s 11ms/step - loss: 0.0128\n"
          ]
        }
      ]
    },
    {
      "cell_type": "code",
      "source": [
        "import tensorflow as tf\n",
        "\n",
        "# Loading the pre-trained model\n",
        "model = tf.keras.models.load_model('/content/drive/MyDrive/Dataset/Stock Price Prediction/models/model_test18_6.h5')"
      ],
      "metadata": {
        "id": "DcRWieHKPe8W"
      },
      "execution_count": null,
      "outputs": []
    },
    {
      "cell_type": "code",
      "source": [
        "def root_mean_squared_error(y_true, y_pred):\n",
        "    return tf.sqrt(tf.reduce_mean(tf.square(y_pred - y_true)))\n",
        "\n",
        "model.compile(optimizer=Adam(learning_rate=0.0002),\n",
        "              loss='mae')\n"
      ],
      "metadata": {
        "id": "uP166ThZPe4o"
      },
      "execution_count": null,
      "outputs": []
    },
    {
      "cell_type": "code",
      "source": [
        "half = int(len(trainX)/2)\n",
        "half"
      ],
      "metadata": {
        "colab": {
          "base_uri": "https://localhost:8080/"
        },
        "id": "bTw5yAvtbpZX",
        "outputId": "07cf7066-b00d-486c-a472-4edddd94829c"
      },
      "execution_count": null,
      "outputs": [
        {
          "output_type": "execute_result",
          "data": {
            "text/plain": [
              "1150"
            ]
          },
          "metadata": {},
          "execution_count": 17
        }
      ]
    },
    {
      "cell_type": "code",
      "source": [
        "# Train the Model\n",
        "history5 = model.fit(trainX[half:], trainY[half:], epochs=2, batch_size=3, shuffle=False, verbose=1)"
      ],
      "metadata": {
        "colab": {
          "base_uri": "https://localhost:8080/"
        },
        "id": "RaoHM3gYcwBs",
        "outputId": "48af06af-add4-453a-a816-b41a052c9847"
      },
      "execution_count": null,
      "outputs": [
        {
          "output_type": "stream",
          "name": "stdout",
          "text": [
            "Epoch 1/2\n",
            "384/384 [==============================] - 6s 9ms/step - loss: 0.0085\n",
            "Epoch 2/2\n",
            "384/384 [==============================] - 3s 9ms/step - loss: 0.0089\n"
          ]
        }
      ]
    },
    {
      "cell_type": "code",
      "source": [
        "# Train the Model\n",
        "history6 = model.fit(trainX[half:], trainY[half:], epochs=4, batch_size=32, shuffle=False, verbose=1)"
      ],
      "metadata": {
        "colab": {
          "base_uri": "https://localhost:8080/"
        },
        "id": "dz8B3lgtc8MI",
        "outputId": "c7dea66e-ebe8-4fb0-f64c-c0db95d403d6"
      },
      "execution_count": null,
      "outputs": [
        {
          "output_type": "stream",
          "name": "stdout",
          "text": [
            "36/36 [==============================] - 1s 16ms/step - loss: 0.0101\n"
          ]
        }
      ]
    },
    {
      "cell_type": "code",
      "source": [
        "# Train the Model\n",
        "history7 = model.fit(trainX[half:], trainY[half:], epochs=2, batch_size=64, shuffle=False, verbose=1)"
      ],
      "metadata": {
        "colab": {
          "base_uri": "https://localhost:8080/"
        },
        "id": "Z5fY1cG8JOj5",
        "outputId": "0bb31c08-a89f-4de7-9e59-8e4ff110d7be"
      },
      "execution_count": null,
      "outputs": [
        {
          "output_type": "stream",
          "name": "stdout",
          "text": [
            "18/18 [==============================] - 0s 7ms/step - loss: 0.0096\n"
          ]
        }
      ]
    },
    {
      "cell_type": "code",
      "source": [
        "# Access the training history\n",
        "training_loss = history.history['loss']\n",
        "# validation_loss = history.history['val_loss']\n",
        "\n",
        "# Create an array of epoch numbers for the x-axis\n",
        "epochs = range(1, len(training_loss) + 1)\n",
        "\n",
        "# Plot training and validation loss\n",
        "plt.figure(figsize=(10, 6))\n",
        "plt.plot(epochs, training_loss, 'b', label='Training Loss')\n",
        "# plt.plot(epochs, validation_loss, 'r', label='Validation Loss')\n",
        "plt.title('Training and Validation Loss')\n",
        "plt.xlabel('Epochs')\n",
        "plt.ylabel('Loss')\n",
        "plt.legend()\n",
        "plt.grid(True)\n",
        "plt.show()"
      ],
      "metadata": {
        "id": "o79l37tZUX0m"
      },
      "execution_count": null,
      "outputs": []
    },
    {
      "cell_type": "code",
      "source": [
        "model.save('/content/drive/MyDrive/Dataset/Stock Price Prediction/models/model_test18_6.h5')"
      ],
      "metadata": {
        "colab": {
          "base_uri": "https://localhost:8080/"
        },
        "id": "8LR1Kh8UGRCs",
        "outputId": "a7cfd14e-b867-4bd4-d6f2-b8e67d7c96db"
      },
      "execution_count": null,
      "outputs": [
        {
          "output_type": "stream",
          "name": "stderr",
          "text": [
            "/usr/local/lib/python3.10/dist-packages/keras/src/engine/training.py:3000: UserWarning: You are saving your model as an HDF5 file via `model.save()`. This file format is considered legacy. We recommend using instead the native Keras format, e.g. `model.save('my_model.keras')`.\n",
            "  saving_api.save_model(\n"
          ]
        }
      ]
    },
    {
      "cell_type": "markdown",
      "source": [
        "##Testing the Model"
      ],
      "metadata": {
        "id": "EGcBMI6VlMx0"
      }
    },
    {
      "cell_type": "code",
      "source": [
        "!pip install tensorflow"
      ],
      "metadata": {
        "id": "Z_J0l1VVm1BC"
      },
      "execution_count": null,
      "outputs": []
    },
    {
      "cell_type": "code",
      "source": [
        "from sklearn.preprocessing import MinMaxScaler, StandardScaler\n",
        "from tensorflow.keras.models import Sequential\n",
        "from tensorflow.keras.layers import LSTM, Dense\n",
        "from tensorflow.keras import regularizers\n",
        "from tensorflow.keras.layers import LeakyReLU\n",
        "import pandas as pd\n",
        "import numpy as np\n",
        "import matplotlib.pyplot as plt"
      ],
      "metadata": {
        "id": "0Rglntf1mqnO"
      },
      "execution_count": null,
      "outputs": []
    },
    {
      "cell_type": "code",
      "source": [
        "df = pd.read_csv('/content/drive/MyDrive/Dataset/Stock Price Prediction/Prices/final.csv')\n",
        "\n",
        "data = df[['Adj Close', 'Impact']].values\n",
        "target = df['Next Day'].values\n",
        "\n",
        "# Normalize the input data\n",
        "scalerX = MinMaxScaler(feature_range=(0, 1))\n",
        "X_scaled = scalerX.fit_transform(data)\n",
        "\n",
        "#Empty lists will be used for formatted training data\n",
        "dataX = []\n",
        "targetY = []\n",
        "\n",
        "# How far to look in future\n",
        "predict_days = 1\n",
        "# number of past days\n",
        "timestep = 6\n",
        "\n",
        "for i in range(timestep, len(data) - predict_days +1):\n",
        "    dataX.append(X_scaled[i - timestep:i, 0:data.shape[1]])\n",
        "    targetY.append(target[i - 1:i + predict_days-1])\n",
        "\n",
        "scalerY = MinMaxScaler(feature_range=(0, 1))\n",
        "Y_scaled = scalerY.fit_transform(targetY)\n",
        "\n",
        "# Split the dataset into training and testing sets\n",
        "train_size = int(len(df) * 0.92)\n",
        "trainX = dataX[:train_size]\n",
        "testX = dataX[train_size:]\n",
        "\n",
        "trainY = Y_scaled[:train_size]\n",
        "testY = Y_scaled[train_size:]\n",
        "\n",
        "trainX, trainY = np.array(trainX), np.array(trainY)\n",
        "testX, testY = np.array(testX), np.array(testY)\n",
        "\n",
        "dates = df['Date']\n",
        "test_dates = dates[train_size:]"
      ],
      "metadata": {
        "id": "ySyxweKqmMmF"
      },
      "execution_count": null,
      "outputs": []
    },
    {
      "cell_type": "code",
      "source": [
        "import tensorflow as tf\n",
        "model = tf.keras.models.load_model('/content/drive/MyDrive/Dataset/Stock Price Prediction/models/model_test18_6.h5')"
      ],
      "metadata": {
        "colab": {
          "base_uri": "https://localhost:8080/"
        },
        "id": "cs6htPJwi4CR",
        "outputId": "7106ba4c-a3a5-40bf-e367-b8b207374d18"
      },
      "execution_count": null,
      "outputs": [
        {
          "output_type": "stream",
          "name": "stderr",
          "text": [
            "WARNING:tensorflow:Layer lstm_24 will not use cuDNN kernels since it doesn't meet the criteria. It will use a generic GPU kernel as fallback when running on GPU.\n",
            "WARNING:tensorflow:Layer lstm_25 will not use cuDNN kernels since it doesn't meet the criteria. It will use a generic GPU kernel as fallback when running on GPU.\n"
          ]
        }
      ]
    },
    {
      "cell_type": "code",
      "source": [
        "predictions = scalerY.inverse_transform(predictions_scaled)\n",
        "predictions_scaled = model.predict(testX)"
      ],
      "metadata": {
        "id": "zTrKNMKYK-38"
      },
      "execution_count": null,
      "outputs": []
    },
    {
      "cell_type": "code",
      "source": [
        "y_inverse = scalerY.inverse_transform(testY)"
      ],
      "metadata": {
        "id": "Rt9GfnJ4QtBO"
      },
      "execution_count": null,
      "outputs": []
    },
    {
      "cell_type": "code",
      "source": [
        "# Plot training and validation loss\n",
        "plt.figure(figsize=(10, 6))\n",
        "plt.xticks(range(0, len(y_inverse), 16))\n",
        "plt.plot(predictions, 'r', label='Predicted Prices')\n",
        "plt.plot(y_inverse, 'b', label='Actual Prices')\n",
        "plt.title('Predicted and Actual Prices')\n",
        "plt.xlabel('Dates')\n",
        "plt.ylabel('Prices')\n",
        "plt.legend()\n",
        "plt.grid(True)\n",
        "plt.show()"
      ],
      "metadata": {
        "id": "hparXMkCozAh",
        "colab": {
          "base_uri": "https://localhost:8080/",
          "height": 564
        },
        "outputId": "3f02c05f-2d35-4dc0-8989-91586672ed61"
      },
      "execution_count": null,
      "outputs": [
        {
          "output_type": "display_data",
          "data": {
            "text/plain": [
              "<Figure size 1000x600 with 1 Axes>"
            ],
            "image/png": "[encoded data removed]"
          },
          "metadata": {}
        }
      ]
    },
    {
      "cell_type": "code",
      "source": [
        "from sklearn.metrics import mean_absolute_error, mean_squared_error\n",
        "import numpy as np\n",
        "\n",
        "# Calculate Mean Absolute Error\n",
        "mae = mean_absolute_error(y_inverse, predictions)\n",
        "print(f\"Mean Absolute Error: {mae}\")\n",
        "\n",
        "# Calculate Mean Squared Error\n",
        "mse = mean_squared_error(y_inverse, predictions)\n",
        "print(f\"Mean Squared Error: {mse}\")\n",
        "\n",
        "# Calculate Root Mean Squared Error\n",
        "rmse = np.sqrt(mse)\n",
        "print(f\"Root Mean Squared Error: {rmse}\")\n",
        "\n",
        "# Calculate Mean Absolute Percentage Error\n",
        "mape = np.mean(np.abs((y_inverse - predictions) / y_inverse)) * 100\n",
        "print(f\"Mean Absolute Percentage Error: {mape} %\")"
      ],
      "metadata": {
        "colab": {
          "base_uri": "https://localhost:8080/"
        },
        "id": "IzhI1mAFl9Um",
        "outputId": "9e7b3c4c-3f30-45ff-d4a2-d1c5df4bb447"
      },
      "execution_count": null,
      "outputs": [
        {
          "output_type": "stream",
          "name": "stdout",
          "text": [
            "Mean Absolute Error: 17.282373172720682\n",
            "Mean Squared Error: 516.8154995649592\n",
            "Root Mean Squared Error: 22.733576479844942\n",
            "Mean Absolute Percentage Error: 1.1814012606018194 %\n"
          ]
        }
      ]
    },
    {
      "cell_type": "code",
      "source": [
        "from sklearn.metrics import mean_absolute_error, mean_squared_error\n",
        "import numpy as np\n",
        "\n",
        "# Calculate Mean Absolute Error\n",
        "mae = mean_absolute_error(testY, predictions_scaled)\n",
        "print(f\"Mean Absolute Error: {mae}\")\n",
        "\n",
        "# Calculate Mean Squared Error\n",
        "mse = mean_squared_error(testY, predictions_scaled)\n",
        "print(f\"Mean Squared Error: {mse}\")\n",
        "\n",
        "# Calculate Root Mean Squared Error\n",
        "rmse = np.sqrt(mse)\n",
        "print(f\"Root Mean Squared Error: {rmse}\")\n",
        "\n",
        "# Calculate Mean Absolute Percentage Error\n",
        "mape = np.mean(np.abs((testY - predictions_scaled) / testY)) * 100\n",
        "print(f\"Mean Absolute Percentage Error: {mape} %\")"
      ],
      "metadata": {
        "colab": {
          "base_uri": "https://localhost:8080/"
        },
        "id": "gUUEntACLrDQ",
        "outputId": "694e3237-f69d-4e41-93c5-cbb80bd73be3"
      },
      "execution_count": null,
      "outputs": [
        {
          "output_type": "stream",
          "name": "stdout",
          "text": [
            "Mean Absolute Error: 0.010558817515977799\n",
            "Mean Squared Error: 0.0001929120052240944\n",
            "Root Mean Squared Error: 0.01388927662709957\n",
            "Mean Absolute Percentage Error: 1.3818108581773427 %\n"
          ]
        }
      ]
    }
  ]
}